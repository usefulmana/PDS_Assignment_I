{
 "cells": [
  {
   "cell_type": "code",
   "execution_count": 45,
   "metadata": {
    "pycharm": {
     "is_executing": false
    }
   },
   "outputs": [],
   "source": [
    "#Task 1: Data Preparation\n",
    "# \"You will start by loading the CSV data from the file (using appropriate pandas functions) and checking whether the loaded data is equivalent to the data in the source CSV file.\n",
    "# Then, you need to clean the data by using the knowledge we taught in the lectures. You need to deal with all the potential issues/errors in the data appropriately (such as: typos, extra whitespaces, sanity checks for impossible values, and missing values etc). \"\n",
    "\n",
    "# Please structure code as follows: \n",
    "# always provide one line of comments to explain the purpose of the code, e.g. load the data, checking the equivalent to original data, checking typos (do this for each other types of errors)\n",
    "# Formatting the csv file\n",
    "import shutil\n",
    "# Create a copy of the csv file\n",
    "shutil.copyfile('data/Automobile.csv', 'data/Automobile-copy.csv')\n",
    "file_location = 'data/Automobile-copy.csv'\n",
    "try:\n",
    "    s = open(file_location).read()\n",
    "    # Replacing '#' with ',' and '-' with ''\n",
    "    s = s.replace('#', ',').replace('-', '')\n",
    "    f = open(file_location, 'w')\n",
    "    f.write(s)\n",
    "    f.close()\n",
    "except Exception as e:\n",
    "    print(e)"
   ]
  },
  {
   "cell_type": "code",
   "execution_count": 46,
   "outputs": [
    {
     "data": {
      "text/plain": "     symboling  normalized-losses        make fuel-type aspiration  \\\n228          1               95.0       volvo       gas        std   \n229          1               95.0       volvo    diesel      turbo   \n230          1               95.0       volvo       gas      turbo   \n231          4               25.0       volvo       gas        std   \n232          1               95.0       volvo       gas      turbo   \n233          1               95.0       volvo       gas        std   \n234          1                NaN       volvo    diesel      turbo   \n235          1                NaN  vol00112ov       gas      turbo   \n236          1               95.0       volvo    diesel   turrrrbo   \n237          1               95.0       volvo       gas      turbo   \n\n    num-of-doors body-style drive-wheel engine-location  wheel-base  ...  \\\n228         four      sedan         rwd           front       109.1  ...   \n229         four      sedan         rwd           front       109.1  ...   \n230         four      sedan         rwd           front       109.1  ...   \n231         four      sedan         rwd           front       109.1  ...   \n232         four      sedan         rwd           front       109.1  ...   \n233         four      sedan         rwd           front       109.1  ...   \n234         four      sedan         rwd           front       109.1  ...   \n235         four      sedan         rwd           front       109.1  ...   \n236         four      sedan         rwd           front       109.1  ...   \n237        fourr      sedan         rwd           front       109.1  ...   \n\n     engine-size  fuel-system  bore  stroke compression-ratio horsepower  \\\n228          173         mpfi  3.58    2.87               8.8      134.0   \n229          145          idi  3.01    3.40              23.0      106.0   \n230          141         mpfi  3.78    3.15               9.5      114.0   \n231          141         mpfi  3.78    3.15               9.5      114.0   \n232          141         mpfi  3.78    3.15               8.7      160.0   \n233          173         mpfi  3.58    2.87               8.8      134.0   \n234          145          idi  3.01    3.40              23.0      106.0   \n235          141         mpfi  3.78    3.15               9.5      114.0   \n236          145          idi  3.01    3.40              23.0      106.0   \n237          141         mpfi  3.78    3.15               9.5      114.0   \n\n     peak-rpm city-mpg  highway-mpg    price  \n228    5500.0       18           23  21485.0  \n229    4800.0       26           27  22470.0  \n230    5400.0       19           25  22625.0  \n231    5400.0       23           28  16845.0  \n232    5300.0       19           25  19045.0  \n233    5500.0       18           23  21485.0  \n234    4800.0       26           27  22470.0  \n235    5400.0       19           25  22625.0  \n236    4800.0       26           27      0.0  \n237    5400.0       19           25      0.0  \n\n[10 rows x 26 columns]",
      "text/html": "<div>\n<style scoped>\n    .dataframe tbody tr th:only-of-type {\n        vertical-align: middle;\n    }\n\n    .dataframe tbody tr th {\n        vertical-align: top;\n    }\n\n    .dataframe thead th {\n        text-align: right;\n    }\n</style>\n<table border=\"1\" class=\"dataframe\">\n  <thead>\n    <tr style=\"text-align: right;\">\n      <th></th>\n      <th>symboling</th>\n      <th>normalized-losses</th>\n      <th>make</th>\n      <th>fuel-type</th>\n      <th>aspiration</th>\n      <th>num-of-doors</th>\n      <th>body-style</th>\n      <th>drive-wheel</th>\n      <th>engine-location</th>\n      <th>wheel-base</th>\n      <th>...</th>\n      <th>engine-size</th>\n      <th>fuel-system</th>\n      <th>bore</th>\n      <th>stroke</th>\n      <th>compression-ratio</th>\n      <th>horsepower</th>\n      <th>peak-rpm</th>\n      <th>city-mpg</th>\n      <th>highway-mpg</th>\n      <th>price</th>\n    </tr>\n  </thead>\n  <tbody>\n    <tr>\n      <th>228</th>\n      <td>1</td>\n      <td>95.0</td>\n      <td>volvo</td>\n      <td>gas</td>\n      <td>std</td>\n      <td>four</td>\n      <td>sedan</td>\n      <td>rwd</td>\n      <td>front</td>\n      <td>109.1</td>\n      <td>...</td>\n      <td>173</td>\n      <td>mpfi</td>\n      <td>3.58</td>\n      <td>2.87</td>\n      <td>8.8</td>\n      <td>134.0</td>\n      <td>5500.0</td>\n      <td>18</td>\n      <td>23</td>\n      <td>21485.0</td>\n    </tr>\n    <tr>\n      <th>229</th>\n      <td>1</td>\n      <td>95.0</td>\n      <td>volvo</td>\n      <td>diesel</td>\n      <td>turbo</td>\n      <td>four</td>\n      <td>sedan</td>\n      <td>rwd</td>\n      <td>front</td>\n      <td>109.1</td>\n      <td>...</td>\n      <td>145</td>\n      <td>idi</td>\n      <td>3.01</td>\n      <td>3.40</td>\n      <td>23.0</td>\n      <td>106.0</td>\n      <td>4800.0</td>\n      <td>26</td>\n      <td>27</td>\n      <td>22470.0</td>\n    </tr>\n    <tr>\n      <th>230</th>\n      <td>1</td>\n      <td>95.0</td>\n      <td>volvo</td>\n      <td>gas</td>\n      <td>turbo</td>\n      <td>four</td>\n      <td>sedan</td>\n      <td>rwd</td>\n      <td>front</td>\n      <td>109.1</td>\n      <td>...</td>\n      <td>141</td>\n      <td>mpfi</td>\n      <td>3.78</td>\n      <td>3.15</td>\n      <td>9.5</td>\n      <td>114.0</td>\n      <td>5400.0</td>\n      <td>19</td>\n      <td>25</td>\n      <td>22625.0</td>\n    </tr>\n    <tr>\n      <th>231</th>\n      <td>4</td>\n      <td>25.0</td>\n      <td>volvo</td>\n      <td>gas</td>\n      <td>std</td>\n      <td>four</td>\n      <td>sedan</td>\n      <td>rwd</td>\n      <td>front</td>\n      <td>109.1</td>\n      <td>...</td>\n      <td>141</td>\n      <td>mpfi</td>\n      <td>3.78</td>\n      <td>3.15</td>\n      <td>9.5</td>\n      <td>114.0</td>\n      <td>5400.0</td>\n      <td>23</td>\n      <td>28</td>\n      <td>16845.0</td>\n    </tr>\n    <tr>\n      <th>232</th>\n      <td>1</td>\n      <td>95.0</td>\n      <td>volvo</td>\n      <td>gas</td>\n      <td>turbo</td>\n      <td>four</td>\n      <td>sedan</td>\n      <td>rwd</td>\n      <td>front</td>\n      <td>109.1</td>\n      <td>...</td>\n      <td>141</td>\n      <td>mpfi</td>\n      <td>3.78</td>\n      <td>3.15</td>\n      <td>8.7</td>\n      <td>160.0</td>\n      <td>5300.0</td>\n      <td>19</td>\n      <td>25</td>\n      <td>19045.0</td>\n    </tr>\n    <tr>\n      <th>233</th>\n      <td>1</td>\n      <td>95.0</td>\n      <td>volvo</td>\n      <td>gas</td>\n      <td>std</td>\n      <td>four</td>\n      <td>sedan</td>\n      <td>rwd</td>\n      <td>front</td>\n      <td>109.1</td>\n      <td>...</td>\n      <td>173</td>\n      <td>mpfi</td>\n      <td>3.58</td>\n      <td>2.87</td>\n      <td>8.8</td>\n      <td>134.0</td>\n      <td>5500.0</td>\n      <td>18</td>\n      <td>23</td>\n      <td>21485.0</td>\n    </tr>\n    <tr>\n      <th>234</th>\n      <td>1</td>\n      <td>NaN</td>\n      <td>volvo</td>\n      <td>diesel</td>\n      <td>turbo</td>\n      <td>four</td>\n      <td>sedan</td>\n      <td>rwd</td>\n      <td>front</td>\n      <td>109.1</td>\n      <td>...</td>\n      <td>145</td>\n      <td>idi</td>\n      <td>3.01</td>\n      <td>3.40</td>\n      <td>23.0</td>\n      <td>106.0</td>\n      <td>4800.0</td>\n      <td>26</td>\n      <td>27</td>\n      <td>22470.0</td>\n    </tr>\n    <tr>\n      <th>235</th>\n      <td>1</td>\n      <td>NaN</td>\n      <td>vol00112ov</td>\n      <td>gas</td>\n      <td>turbo</td>\n      <td>four</td>\n      <td>sedan</td>\n      <td>rwd</td>\n      <td>front</td>\n      <td>109.1</td>\n      <td>...</td>\n      <td>141</td>\n      <td>mpfi</td>\n      <td>3.78</td>\n      <td>3.15</td>\n      <td>9.5</td>\n      <td>114.0</td>\n      <td>5400.0</td>\n      <td>19</td>\n      <td>25</td>\n      <td>22625.0</td>\n    </tr>\n    <tr>\n      <th>236</th>\n      <td>1</td>\n      <td>95.0</td>\n      <td>volvo</td>\n      <td>diesel</td>\n      <td>turrrrbo</td>\n      <td>four</td>\n      <td>sedan</td>\n      <td>rwd</td>\n      <td>front</td>\n      <td>109.1</td>\n      <td>...</td>\n      <td>145</td>\n      <td>idi</td>\n      <td>3.01</td>\n      <td>3.40</td>\n      <td>23.0</td>\n      <td>106.0</td>\n      <td>4800.0</td>\n      <td>26</td>\n      <td>27</td>\n      <td>0.0</td>\n    </tr>\n    <tr>\n      <th>237</th>\n      <td>1</td>\n      <td>95.0</td>\n      <td>volvo</td>\n      <td>gas</td>\n      <td>turbo</td>\n      <td>fourr</td>\n      <td>sedan</td>\n      <td>rwd</td>\n      <td>front</td>\n      <td>109.1</td>\n      <td>...</td>\n      <td>141</td>\n      <td>mpfi</td>\n      <td>3.78</td>\n      <td>3.15</td>\n      <td>9.5</td>\n      <td>114.0</td>\n      <td>5400.0</td>\n      <td>19</td>\n      <td>25</td>\n      <td>0.0</td>\n    </tr>\n  </tbody>\n</table>\n<p>10 rows × 26 columns</p>\n</div>"
     },
     "metadata": {},
     "output_type": "execute_result",
     "execution_count": 46
    }
   ],
   "source": [
    "import pandas as pd\n",
    "import matplotlib.pyplot as plt\n",
    "# Reading the formatted data\n",
    "data = pd.read_csv(file_location, sep=',', decimal='.', header=None, names=[\n",
    "    'symboling', 'normalized-losses', 'make', 'fuel-type', 'aspiration', 'num-of-doors', 'body-style', 'drive-wheel',\n",
    "    'engine-location', 'wheel-base', 'length', 'width', 'height', 'curb-weight', 'engine-type', 'num-of-cylinders',\n",
    "    'engine-size', 'fuel-system', 'bore', 'stroke', 'compression-ratio', 'horsepower', 'peak-rpm', 'city-mpg', \n",
    "    'highway-mpg', 'price'\n",
    "])\n",
    "# Lower all string values\n",
    "data = data.apply(lambda x: x.str.lower() if(x.dtype == 'object') else x)\n",
    "# Trim all redundant whitespaces\n",
    "data = data.apply(lambda x: x.str.strip() if(x.dtype == 'object') else x)\n",
    "# Displaying the first 10 values\n",
    "data.tail(10)"
   ],
   "metadata": {
    "collapsed": false,
    "pycharm": {
     "name": "#%%\n",
     "is_executing": false
    }
   }
  },
  {
   "cell_type": "code",
   "execution_count": 32,
   "outputs": [
    {
     "data": {
      "text/plain": "['normalized-losses',\n 'num-of-doors',\n 'bore',\n 'stroke',\n 'horsepower',\n 'peak-rpm',\n 'price']"
     },
     "metadata": {},
     "output_type": "execute_result",
     "execution_count": 32
    }
   ],
   "source": [
    "# Displaying columns with NaN values\n",
    "data.columns[data.isna().any()].tolist()"
   ],
   "metadata": {
    "collapsed": false,
    "pycharm": {
     "name": "#%%\n",
     "is_executing": false
    }
   }
  },
  {
   "cell_type": "code",
   "execution_count": 51,
   "metadata": {
    "pycharm": {
     "is_executing": false
    }
   },
   "outputs": [
    {
     "ename": "AttributeError",
     "evalue": "'DataFrame' object has no attribute 'value_counts'",
     "traceback": [
      "\u001b[1;31m\u001b[0m",
      "\u001b[1;31mAttributeError\u001b[0mTraceback (most recent call last)",
      "\u001b[1;32m<ipython-input-51-d91c65d15641>\u001b[0m in \u001b[0;36m<module>\u001b[1;34m()\u001b[0m\n\u001b[0;32m      1\u001b[0m \u001b[1;31m# Count the values of make column to find typos\u001b[0m\u001b[1;33m\u001b[0m\u001b[1;33m\u001b[0m\u001b[0m\n\u001b[1;32m----> 2\u001b[1;33m \u001b[0mdata\u001b[0m\u001b[1;33m.\u001b[0m\u001b[0mvalue_counts\u001b[0m\u001b[1;33m(\u001b[0m\u001b[1;33m)\u001b[0m\u001b[1;33m\u001b[0m\u001b[0m\n\u001b[0m",
      "\u001b[1;32mc:\\users\\alex\\miniconda3\\envs\\practical_data_science\\lib\\site-packages\\pandas\\core\\generic.pyc\u001b[0m in \u001b[0;36m__getattr__\u001b[1;34m(self, name)\u001b[0m\n\u001b[0;32m   5065\u001b[0m             \u001b[1;32mif\u001b[0m \u001b[0mself\u001b[0m\u001b[1;33m.\u001b[0m\u001b[0m_info_axis\u001b[0m\u001b[1;33m.\u001b[0m\u001b[0m_can_hold_identifiers_and_holds_name\u001b[0m\u001b[1;33m(\u001b[0m\u001b[0mname\u001b[0m\u001b[1;33m)\u001b[0m\u001b[1;33m:\u001b[0m\u001b[1;33m\u001b[0m\u001b[0m\n\u001b[0;32m   5066\u001b[0m                 \u001b[1;32mreturn\u001b[0m \u001b[0mself\u001b[0m\u001b[1;33m[\u001b[0m\u001b[0mname\u001b[0m\u001b[1;33m]\u001b[0m\u001b[1;33m\u001b[0m\u001b[0m\n\u001b[1;32m-> 5067\u001b[1;33m             \u001b[1;32mreturn\u001b[0m \u001b[0mobject\u001b[0m\u001b[1;33m.\u001b[0m\u001b[0m__getattribute__\u001b[0m\u001b[1;33m(\u001b[0m\u001b[0mself\u001b[0m\u001b[1;33m,\u001b[0m \u001b[0mname\u001b[0m\u001b[1;33m)\u001b[0m\u001b[1;33m\u001b[0m\u001b[0m\n\u001b[0m\u001b[0;32m   5068\u001b[0m \u001b[1;33m\u001b[0m\u001b[0m\n\u001b[0;32m   5069\u001b[0m     \u001b[1;32mdef\u001b[0m \u001b[0m__setattr__\u001b[0m\u001b[1;33m(\u001b[0m\u001b[0mself\u001b[0m\u001b[1;33m,\u001b[0m \u001b[0mname\u001b[0m\u001b[1;33m,\u001b[0m \u001b[0mvalue\u001b[0m\u001b[1;33m)\u001b[0m\u001b[1;33m:\u001b[0m\u001b[1;33m\u001b[0m\u001b[0m\n",
      "\u001b[1;31mAttributeError\u001b[0m: 'DataFrame' object has no attribute 'value_counts'"
     ],
     "output_type": "error"
    }
   ],
   "source": [
    "# Count the values of make column to find typos\n",
    "data['make'].value_counts()"
   ]
  },
  {
   "cell_type": "code",
   "execution_count": 50,
   "outputs": [
    {
     "data": {
      "text/plain": "volvo           44\ntoyota          32\nnissan          18\nmazda           17\nmitsubishi      13\nhonda           13\nvolkswagen      12\nsubaru          12\npeugot          11\ndodge            9\nbmw              8\nmercedesbenz     8\naudi             7\nplymouth         7\nsaab             6\nporsche          5\nisuzu            4\nchevrolet        3\njaguar           3\nalfaromero       3\nrenault          2\nmercury          1\nName: make, dtype: int64"
     },
     "metadata": {},
     "output_type": "execute_result",
     "execution_count": 50
    }
   ],
   "source": [
    "# Replace typo in make column\n",
    "mask_make = data['make'] == 'vol00112ov'\n",
    "data.loc[mask_make, 'make'] = 'volvo'\n",
    "data['make'].value_counts()"
   ],
   "metadata": {
    "collapsed": false,
    "pycharm": {
     "name": "#%%\n",
     "is_executing": false
    }
   }
  },
  {
   "cell_type": "code",
   "execution_count": 42,
   "outputs": [
    {
     "data": {
      "text/plain": "                                             symboling  normalized-losses  \\\n233  -1#95#volvo #gas#std#four#sedan#rwd#front#109....                NaN   \n234  -1##volvo #diesel#turbo#four#sedan#rwd#front#1...                NaN   \n235  -1##vol00112ov#gas#turbo#four#sedan#rwd#front#...                NaN   \n236  -1#95#volvo#diesel#turrrrbo#four#sedan#rwd#fro...                NaN   \n237  -1#95#volvo#gas#turbo#fourR#sedan#rwd#front#10...                NaN   \n\n     make  fuel-type  aspiration  num-of-doors  body-style  drive-wheel  \\\n233   NaN        NaN         NaN           NaN         NaN          NaN   \n234   NaN        NaN         NaN           NaN         NaN          NaN   \n235   NaN        NaN         NaN           NaN         NaN          NaN   \n236   NaN        NaN         NaN           NaN         NaN          NaN   \n237   NaN        NaN         NaN           NaN         NaN          NaN   \n\n     engine-location  wheel-base  ...  engine-size  fuel-system  bore  stroke  \\\n233              NaN         NaN  ...          NaN          NaN   NaN     NaN   \n234              NaN         NaN  ...          NaN          NaN   NaN     NaN   \n235              NaN         NaN  ...          NaN          NaN   NaN     NaN   \n236              NaN         NaN  ...          NaN          NaN   NaN     NaN   \n237              NaN         NaN  ...          NaN          NaN   NaN     NaN   \n\n     compression-ratio  horsepower  peak-rpm  city-mpg  highway-mpg  price  \n233                NaN         NaN       NaN       NaN          NaN    NaN  \n234                NaN         NaN       NaN       NaN          NaN    NaN  \n235                NaN         NaN       NaN       NaN          NaN    NaN  \n236                NaN         NaN       NaN       NaN          NaN    NaN  \n237                NaN         NaN       NaN       NaN          NaN    NaN  \n\n[5 rows x 26 columns]",
      "text/html": "<div>\n<style scoped>\n    .dataframe tbody tr th:only-of-type {\n        vertical-align: middle;\n    }\n\n    .dataframe tbody tr th {\n        vertical-align: top;\n    }\n\n    .dataframe thead th {\n        text-align: right;\n    }\n</style>\n<table border=\"1\" class=\"dataframe\">\n  <thead>\n    <tr style=\"text-align: right;\">\n      <th></th>\n      <th>symboling</th>\n      <th>normalized-losses</th>\n      <th>make</th>\n      <th>fuel-type</th>\n      <th>aspiration</th>\n      <th>num-of-doors</th>\n      <th>body-style</th>\n      <th>drive-wheel</th>\n      <th>engine-location</th>\n      <th>wheel-base</th>\n      <th>...</th>\n      <th>engine-size</th>\n      <th>fuel-system</th>\n      <th>bore</th>\n      <th>stroke</th>\n      <th>compression-ratio</th>\n      <th>horsepower</th>\n      <th>peak-rpm</th>\n      <th>city-mpg</th>\n      <th>highway-mpg</th>\n      <th>price</th>\n    </tr>\n  </thead>\n  <tbody>\n    <tr>\n      <th>233</th>\n      <td>-1#95#volvo #gas#std#four#sedan#rwd#front#109....</td>\n      <td>NaN</td>\n      <td>NaN</td>\n      <td>NaN</td>\n      <td>NaN</td>\n      <td>NaN</td>\n      <td>NaN</td>\n      <td>NaN</td>\n      <td>NaN</td>\n      <td>NaN</td>\n      <td>...</td>\n      <td>NaN</td>\n      <td>NaN</td>\n      <td>NaN</td>\n      <td>NaN</td>\n      <td>NaN</td>\n      <td>NaN</td>\n      <td>NaN</td>\n      <td>NaN</td>\n      <td>NaN</td>\n      <td>NaN</td>\n    </tr>\n    <tr>\n      <th>234</th>\n      <td>-1##volvo #diesel#turbo#four#sedan#rwd#front#1...</td>\n      <td>NaN</td>\n      <td>NaN</td>\n      <td>NaN</td>\n      <td>NaN</td>\n      <td>NaN</td>\n      <td>NaN</td>\n      <td>NaN</td>\n      <td>NaN</td>\n      <td>NaN</td>\n      <td>...</td>\n      <td>NaN</td>\n      <td>NaN</td>\n      <td>NaN</td>\n      <td>NaN</td>\n      <td>NaN</td>\n      <td>NaN</td>\n      <td>NaN</td>\n      <td>NaN</td>\n      <td>NaN</td>\n      <td>NaN</td>\n    </tr>\n    <tr>\n      <th>235</th>\n      <td>-1##vol00112ov#gas#turbo#four#sedan#rwd#front#...</td>\n      <td>NaN</td>\n      <td>NaN</td>\n      <td>NaN</td>\n      <td>NaN</td>\n      <td>NaN</td>\n      <td>NaN</td>\n      <td>NaN</td>\n      <td>NaN</td>\n      <td>NaN</td>\n      <td>...</td>\n      <td>NaN</td>\n      <td>NaN</td>\n      <td>NaN</td>\n      <td>NaN</td>\n      <td>NaN</td>\n      <td>NaN</td>\n      <td>NaN</td>\n      <td>NaN</td>\n      <td>NaN</td>\n      <td>NaN</td>\n    </tr>\n    <tr>\n      <th>236</th>\n      <td>-1#95#volvo#diesel#turrrrbo#four#sedan#rwd#fro...</td>\n      <td>NaN</td>\n      <td>NaN</td>\n      <td>NaN</td>\n      <td>NaN</td>\n      <td>NaN</td>\n      <td>NaN</td>\n      <td>NaN</td>\n      <td>NaN</td>\n      <td>NaN</td>\n      <td>...</td>\n      <td>NaN</td>\n      <td>NaN</td>\n      <td>NaN</td>\n      <td>NaN</td>\n      <td>NaN</td>\n      <td>NaN</td>\n      <td>NaN</td>\n      <td>NaN</td>\n      <td>NaN</td>\n      <td>NaN</td>\n    </tr>\n    <tr>\n      <th>237</th>\n      <td>-1#95#volvo#gas#turbo#fourR#sedan#rwd#front#10...</td>\n      <td>NaN</td>\n      <td>NaN</td>\n      <td>NaN</td>\n      <td>NaN</td>\n      <td>NaN</td>\n      <td>NaN</td>\n      <td>NaN</td>\n      <td>NaN</td>\n      <td>NaN</td>\n      <td>...</td>\n      <td>NaN</td>\n      <td>NaN</td>\n      <td>NaN</td>\n      <td>NaN</td>\n      <td>NaN</td>\n      <td>NaN</td>\n      <td>NaN</td>\n      <td>NaN</td>\n      <td>NaN</td>\n      <td>NaN</td>\n    </tr>\n  </tbody>\n</table>\n<p>5 rows × 26 columns</p>\n</div>"
     },
     "metadata": {},
     "output_type": "execute_result",
     "execution_count": 42
    }
   ],
   "source": [],
   "metadata": {
    "collapsed": false,
    "pycharm": {
     "name": "#%%\n",
     "is_executing": false
    }
   }
  },
  {
   "cell_type": "code",
   "execution_count": null,
   "outputs": [],
   "source": [
    "# Task 2: Data Exploration\n",
    "# 1. Choose 1 column with nominal values, 1 column with ordinal Values, and 1 column with numerical values\n",
    "\n",
    "\n",
    "#Code goes after this line\n",
    "\n"
   ],
   "metadata": {
    "collapsed": false,
    "pycharm": {
     "name": "#%%\n"
    }
   }
  },
  {
   "cell_type": "code",
   "execution_count": 7,
   "metadata": {},
   "outputs": [],
   "source": [
    "# Task 2: Data Exploration\n",
    "# 2. Explore the relationships between columns; at least 3 visualisations with plausible hypothesis\n",
    "\n",
    "#Code goes after this line\n",
    "\n",
    "\n"
   ]
  },
  {
   "cell_type": "code",
   "execution_count": 8,
   "metadata": {
    "scrolled": true
   },
   "outputs": [],
   "source": [
    "# Task 2: Data Exploration\n",
    "# 3. Scatter matrix for all numerical columns\n",
    "\n",
    "#Code goes after this line"
   ]
  },
  {
   "cell_type": "code",
   "execution_count": null,
   "metadata": {},
   "outputs": [],
   "source": []
  }
 ],
 "metadata": {
  "kernelspec": {
   "display_name": "Python 2",
   "language": "python",
   "name": "python2"
  },
  "language_info": {
   "codemirror_mode": {
    "name": "ipython",
    "version": 2
   },
   "file_extension": ".py",
   "mimetype": "text/x-python",
   "name": "python",
   "nbconvert_exporter": "python",
   "pygments_lexer": "ipython2",
   "version": "2.7.15"
  },
  "pycharm": {
   "stem_cell": {
    "cell_type": "raw",
    "source": [],
    "metadata": {
     "collapsed": false
    }
   }
  }
 },
 "nbformat": 4,
 "nbformat_minor": 2
}