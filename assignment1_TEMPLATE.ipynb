{
 "cells": [
  {
   "cell_type": "code",
   "execution_count": 30,
   "metadata": {
    "pycharm": {
     "is_executing": false
    }
   },
   "outputs": [],
   "source": [
    "#Task 1: Data Preparation\n",
    "# \"You will start by loading the CSV data from the file (using appropriate pandas functions) and checking whether the loaded data is equivalent to the data in the source CSV file.\n",
    "# Then, you need to clean the data by using the knowledge we taught in the lectures. You need to deal with all the potential issues/errors in the data appropriately (such as: typos, extra whitespaces, sanity checks for impossible values, and missing values etc). \"\n",
    "\n",
    "# Please structure code as follows: \n",
    "# always provide one line of comments to explain the purpose of the code, e.g. load the data, checking the equivalent to original data, checking typos (do this for each other types of errors)\n",
    "# Formatting the csv file\n",
    "import shutil\n",
    "# Create a copy of the csv file\n",
    "shutil.copyfile('data/Automobile.csv', 'data/Automobile-copy.csv')\n",
    "file_location = 'data/Automobile-copy.csv'\n",
    "try:\n",
    "    s = open(file_location).read()\n",
    "    # Replacing '#' with ',', '-' with '', and ' ' and ''\n",
    "    s = s.replace('#', ',').replace('-', '').replace(' ','')\n",
    "    f = open(file_location, 'w')\n",
    "    f.write(s)\n",
    "    f.close()\n",
    "except Exception as e:\n",
    "    print(e)"
   ]
  },
  {
   "cell_type": "code",
   "execution_count": 36,
   "outputs": [
    {
     "data": {
      "text/plain": "   symboling  normalized-losses        make fuel-type aspiration num-of-doors  \\\n0          3                NaN  alfaromero       gas        std          two   \n1          3                NaN  alfaromero       gas        std          two   \n2          1                NaN  alfaromero       gas        std          two   \n3          2              164.0        audi       gas        std         four   \n4          2              164.0        audi       gas        std         four   \n5          2                NaN        audi       gas        std          two   \n6          1              158.0        audi       gas        std         four   \n7          1                NaN        audi       gas        std         four   \n8          1              158.0        audi       gas      turbo         four   \n9          0                NaN        audi       gas      turbo          two   \n\n    body-style drive-wheel engine-location  wheel-base  ...  engine-size  \\\n0  convertible         rwd           front        88.6  ...          130   \n1  convertible         rwd           front        88.6  ...          130   \n2    hatchback         rwd           front        94.5  ...          152   \n3        sedan         fwd           front        99.8  ...          109   \n4        sedan         4wd           front        99.4  ...          136   \n5        sedan         fwd           front        99.8  ...          136   \n6        sedan         fwd           front       105.8  ...          136   \n7        wagon         fwd           front       105.8  ...          136   \n8        sedan         fwd           front       105.8  ...          131   \n9    hatchback         4wd           front        99.5  ...          131   \n\n   fuel-system  bore  stroke compression-ratio horsepower  peak-rpm city-mpg  \\\n0         mpfi  3.47    2.68               9.0      111.0    5000.0       21   \n1         mpfi  3.47    2.68               9.0      111.0    5000.0       21   \n2         mpfi  2.68    3.47               9.0      154.0    5000.0       19   \n3         mpfi  3.19    3.40              10.0      102.0    5500.0       24   \n4         mpfi  3.19    3.40               8.0      115.0    5500.0       18   \n5         mpfi  3.19    3.40               8.5      110.0    5500.0       19   \n6         mpfi  3.19    3.40               8.5      110.0    5500.0       19   \n7         mpfi  3.19    3.40               8.5      110.0    5500.0       19   \n8         mpfi  3.13    3.40               8.3      140.0    5500.0       17   \n9         mpfi  3.13    3.40               7.0      160.0    5500.0       16   \n\n   highway-mpg    price  \n0           27  13495.0  \n1           27  16500.0  \n2           26  16500.0  \n3           30  13950.0  \n4           22  17450.0  \n5           25  15250.0  \n6           25  17710.0  \n7           25  18920.0  \n8           20  23875.0  \n9           22      NaN  \n\n[10 rows x 26 columns]",
      "text/html": "<div>\n<style scoped>\n    .dataframe tbody tr th:only-of-type {\n        vertical-align: middle;\n    }\n\n    .dataframe tbody tr th {\n        vertical-align: top;\n    }\n\n    .dataframe thead th {\n        text-align: right;\n    }\n</style>\n<table border=\"1\" class=\"dataframe\">\n  <thead>\n    <tr style=\"text-align: right;\">\n      <th></th>\n      <th>symboling</th>\n      <th>normalized-losses</th>\n      <th>make</th>\n      <th>fuel-type</th>\n      <th>aspiration</th>\n      <th>num-of-doors</th>\n      <th>body-style</th>\n      <th>drive-wheel</th>\n      <th>engine-location</th>\n      <th>wheel-base</th>\n      <th>...</th>\n      <th>engine-size</th>\n      <th>fuel-system</th>\n      <th>bore</th>\n      <th>stroke</th>\n      <th>compression-ratio</th>\n      <th>horsepower</th>\n      <th>peak-rpm</th>\n      <th>city-mpg</th>\n      <th>highway-mpg</th>\n      <th>price</th>\n    </tr>\n  </thead>\n  <tbody>\n    <tr>\n      <th>0</th>\n      <td>3</td>\n      <td>NaN</td>\n      <td>alfaromero</td>\n      <td>gas</td>\n      <td>std</td>\n      <td>two</td>\n      <td>convertible</td>\n      <td>rwd</td>\n      <td>front</td>\n      <td>88.6</td>\n      <td>...</td>\n      <td>130</td>\n      <td>mpfi</td>\n      <td>3.47</td>\n      <td>2.68</td>\n      <td>9.0</td>\n      <td>111.0</td>\n      <td>5000.0</td>\n      <td>21</td>\n      <td>27</td>\n      <td>13495.0</td>\n    </tr>\n    <tr>\n      <th>1</th>\n      <td>3</td>\n      <td>NaN</td>\n      <td>alfaromero</td>\n      <td>gas</td>\n      <td>std</td>\n      <td>two</td>\n      <td>convertible</td>\n      <td>rwd</td>\n      <td>front</td>\n      <td>88.6</td>\n      <td>...</td>\n      <td>130</td>\n      <td>mpfi</td>\n      <td>3.47</td>\n      <td>2.68</td>\n      <td>9.0</td>\n      <td>111.0</td>\n      <td>5000.0</td>\n      <td>21</td>\n      <td>27</td>\n      <td>16500.0</td>\n    </tr>\n    <tr>\n      <th>2</th>\n      <td>1</td>\n      <td>NaN</td>\n      <td>alfaromero</td>\n      <td>gas</td>\n      <td>std</td>\n      <td>two</td>\n      <td>hatchback</td>\n      <td>rwd</td>\n      <td>front</td>\n      <td>94.5</td>\n      <td>...</td>\n      <td>152</td>\n      <td>mpfi</td>\n      <td>2.68</td>\n      <td>3.47</td>\n      <td>9.0</td>\n      <td>154.0</td>\n      <td>5000.0</td>\n      <td>19</td>\n      <td>26</td>\n      <td>16500.0</td>\n    </tr>\n    <tr>\n      <th>3</th>\n      <td>2</td>\n      <td>164.0</td>\n      <td>audi</td>\n      <td>gas</td>\n      <td>std</td>\n      <td>four</td>\n      <td>sedan</td>\n      <td>fwd</td>\n      <td>front</td>\n      <td>99.8</td>\n      <td>...</td>\n      <td>109</td>\n      <td>mpfi</td>\n      <td>3.19</td>\n      <td>3.40</td>\n      <td>10.0</td>\n      <td>102.0</td>\n      <td>5500.0</td>\n      <td>24</td>\n      <td>30</td>\n      <td>13950.0</td>\n    </tr>\n    <tr>\n      <th>4</th>\n      <td>2</td>\n      <td>164.0</td>\n      <td>audi</td>\n      <td>gas</td>\n      <td>std</td>\n      <td>four</td>\n      <td>sedan</td>\n      <td>4wd</td>\n      <td>front</td>\n      <td>99.4</td>\n      <td>...</td>\n      <td>136</td>\n      <td>mpfi</td>\n      <td>3.19</td>\n      <td>3.40</td>\n      <td>8.0</td>\n      <td>115.0</td>\n      <td>5500.0</td>\n      <td>18</td>\n      <td>22</td>\n      <td>17450.0</td>\n    </tr>\n    <tr>\n      <th>5</th>\n      <td>2</td>\n      <td>NaN</td>\n      <td>audi</td>\n      <td>gas</td>\n      <td>std</td>\n      <td>two</td>\n      <td>sedan</td>\n      <td>fwd</td>\n      <td>front</td>\n      <td>99.8</td>\n      <td>...</td>\n      <td>136</td>\n      <td>mpfi</td>\n      <td>3.19</td>\n      <td>3.40</td>\n      <td>8.5</td>\n      <td>110.0</td>\n      <td>5500.0</td>\n      <td>19</td>\n      <td>25</td>\n      <td>15250.0</td>\n    </tr>\n    <tr>\n      <th>6</th>\n      <td>1</td>\n      <td>158.0</td>\n      <td>audi</td>\n      <td>gas</td>\n      <td>std</td>\n      <td>four</td>\n      <td>sedan</td>\n      <td>fwd</td>\n      <td>front</td>\n      <td>105.8</td>\n      <td>...</td>\n      <td>136</td>\n      <td>mpfi</td>\n      <td>3.19</td>\n      <td>3.40</td>\n      <td>8.5</td>\n      <td>110.0</td>\n      <td>5500.0</td>\n      <td>19</td>\n      <td>25</td>\n      <td>17710.0</td>\n    </tr>\n    <tr>\n      <th>7</th>\n      <td>1</td>\n      <td>NaN</td>\n      <td>audi</td>\n      <td>gas</td>\n      <td>std</td>\n      <td>four</td>\n      <td>wagon</td>\n      <td>fwd</td>\n      <td>front</td>\n      <td>105.8</td>\n      <td>...</td>\n      <td>136</td>\n      <td>mpfi</td>\n      <td>3.19</td>\n      <td>3.40</td>\n      <td>8.5</td>\n      <td>110.0</td>\n      <td>5500.0</td>\n      <td>19</td>\n      <td>25</td>\n      <td>18920.0</td>\n    </tr>\n    <tr>\n      <th>8</th>\n      <td>1</td>\n      <td>158.0</td>\n      <td>audi</td>\n      <td>gas</td>\n      <td>turbo</td>\n      <td>four</td>\n      <td>sedan</td>\n      <td>fwd</td>\n      <td>front</td>\n      <td>105.8</td>\n      <td>...</td>\n      <td>131</td>\n      <td>mpfi</td>\n      <td>3.13</td>\n      <td>3.40</td>\n      <td>8.3</td>\n      <td>140.0</td>\n      <td>5500.0</td>\n      <td>17</td>\n      <td>20</td>\n      <td>23875.0</td>\n    </tr>\n    <tr>\n      <th>9</th>\n      <td>0</td>\n      <td>NaN</td>\n      <td>audi</td>\n      <td>gas</td>\n      <td>turbo</td>\n      <td>two</td>\n      <td>hatchback</td>\n      <td>4wd</td>\n      <td>front</td>\n      <td>99.5</td>\n      <td>...</td>\n      <td>131</td>\n      <td>mpfi</td>\n      <td>3.13</td>\n      <td>3.40</td>\n      <td>7.0</td>\n      <td>160.0</td>\n      <td>5500.0</td>\n      <td>16</td>\n      <td>22</td>\n      <td>NaN</td>\n    </tr>\n  </tbody>\n</table>\n<p>10 rows × 26 columns</p>\n</div>"
     },
     "metadata": {},
     "output_type": "execute_result",
     "execution_count": 36
    }
   ],
   "source": [
    "import pandas as pd\n",
    "import matplotlib.pyplot as plt\n",
    "# Reading the formatted data\n",
    "data = pd.read_csv(file_location, sep=',', decimal='.', header=None, names=[\n",
    "    'symboling', 'normalized-losses', 'make', 'fuel-type', 'aspiration', 'num-of-doors', 'body-style', 'drive-wheel',\n",
    "    'engine-location', 'wheel-base', 'length', 'width', 'height', 'curb-weight', 'engine-type', 'num-of-cylinders',\n",
    "    'engine-size', 'fuel-system', 'bore', 'stroke', 'compression-ratio', 'horsepower', 'peak-rpm', 'city-mpg', \n",
    "    'highway-mpg', 'price'\n",
    "])\n",
    "# Lower all string values\n",
    "data = data.apply(lambda x: x.str.lower() if(x.dtype == 'object') else x)\n",
    "# Displaying the first 10 values\n",
    "data.head(10)"
   ],
   "metadata": {
    "collapsed": false,
    "pycharm": {
     "name": "#%%\n",
     "is_executing": false
    }
   }
  },
  {
   "cell_type": "code",
   "execution_count": 32,
   "outputs": [
    {
     "data": {
      "text/plain": "['normalized-losses',\n 'num-of-doors',\n 'bore',\n 'stroke',\n 'horsepower',\n 'peak-rpm',\n 'price']"
     },
     "metadata": {},
     "output_type": "execute_result",
     "execution_count": 32
    }
   ],
   "source": [
    "# Displaying columns with NaN values\n",
    "data.columns[data.isna().any()].tolist()"
   ],
   "metadata": {
    "collapsed": false,
    "pycharm": {
     "name": "#%%\n",
     "is_executing": false
    }
   }
  },
  {
   "cell_type": "code",
   "execution_count": 38,
   "metadata": {
    "pycharm": {
     "is_executing": false
    }
   },
   "outputs": [
    {
     "data": {
      "text/plain": "dtype('O')"
     },
     "metadata": {},
     "output_type": "execute_result",
     "execution_count": 38
    }
   ],
   "source": [
    "for i in data['aspiration']:\n",
    "    if i "
   ]
  },
  {
   "cell_type": "code",
   "execution_count": null,
   "outputs": [],
   "source": [
    "# Task 2: Data Exploration\n",
    "# 1. Choose 1 column with nominal values, 1 column with ordinal Values, and 1 column with numerical values\n",
    "\n",
    "\n",
    "#Code goes after this line\n",
    "\n"
   ],
   "metadata": {
    "collapsed": false,
    "pycharm": {
     "name": "#%%\n"
    }
   }
  },
  {
   "cell_type": "code",
   "execution_count": 7,
   "metadata": {},
   "outputs": [],
   "source": [
    "# Task 2: Data Exploration\n",
    "# 2. Explore the relationships between columns; at least 3 visualisations with plausible hypothesis\n",
    "\n",
    "#Code goes after this line\n",
    "\n",
    "\n"
   ]
  },
  {
   "cell_type": "code",
   "execution_count": 8,
   "metadata": {
    "scrolled": true
   },
   "outputs": [],
   "source": [
    "# Task 2: Data Exploration\n",
    "# 3. Scatter matrix for all numerical columns\n",
    "\n",
    "#Code goes after this line"
   ]
  },
  {
   "cell_type": "code",
   "execution_count": null,
   "metadata": {},
   "outputs": [],
   "source": []
  }
 ],
 "metadata": {
  "kernelspec": {
   "display_name": "Python 2",
   "language": "python",
   "name": "python2"
  },
  "language_info": {
   "codemirror_mode": {
    "name": "ipython",
    "version": 2
   },
   "file_extension": ".py",
   "mimetype": "text/x-python",
   "name": "python",
   "nbconvert_exporter": "python",
   "pygments_lexer": "ipython2",
   "version": "2.7.15"
  },
  "pycharm": {
   "stem_cell": {
    "cell_type": "raw",
    "source": [],
    "metadata": {
     "collapsed": false
    }
   }
  }
 },
 "nbformat": 4,
 "nbformat_minor": 2
}