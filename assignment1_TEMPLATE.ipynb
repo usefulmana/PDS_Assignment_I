{
 "cells": [
  {
   "cell_type": "code",
   "execution_count": 1,
   "metadata": {
    "pycharm": {
     "is_executing": false
    }
   },
   "outputs": [
    {
     "data": {
      "text/plain": "   symboling  normalized-losses         make fuel-type aspiration  \\\n0          3                NaN  alfa-romero       gas        std   \n1          3                NaN  alfa-romero       gas        std   \n2          1                NaN  alfa-romero       gas        std   \n3          2              164.0         audi       gas        std   \n4          2              164.0         audi       gas        std   \n5          2                NaN         audi       gas        std   \n6          1              158.0         audi       gas        std   \n7          1                NaN         audi       gas        std   \n8          1              158.0         audi       gas      turbo   \n9          0                NaN         audi       gas      turbo   \n\n  num-of-doors   body-style drive-wheels engine-location  wheel-base  ...  \\\n0          two  convertible          rwd           front        88.6  ...   \n1          two  convertible          rwd           front        88.6  ...   \n2          two    hatchback          rwd           front        94.5  ...   \n3         four        sedan          fwd           front        99.8  ...   \n4         four        sedan          4wd           front        99.4  ...   \n5          two        sedan          fwd           front        99.8  ...   \n6         four        sedan          fwd           front       105.8  ...   \n7         four        wagon          fwd           front       105.8  ...   \n8         four        sedan          fwd           front       105.8  ...   \n9          two    hatchback          4wd           front        99.5  ...   \n\n   engine-size  fuel-system  bore  stroke compression-ratio horsepower  \\\n0          130         mpfi  3.47    2.68               9.0      111.0   \n1          130         mpfi  3.47    2.68               9.0      111.0   \n2          152         mpfi  2.68    3.47               9.0      154.0   \n3          109         mpfi  3.19    3.40              10.0      102.0   \n4          136         mpfi  3.19    3.40               8.0      115.0   \n5          136         mpfi  3.19    3.40               8.5      110.0   \n6          136         mpfi  3.19    3.40               8.5      110.0   \n7          136         mpfi  3.19    3.40               8.5      110.0   \n8          131         mpfi  3.13    3.40               8.3      140.0   \n9          131         mpfi  3.13    3.40               7.0      160.0   \n\n   peak-rpm city-mpg  highway-mpg    price  \n0    5000.0       21           27  13495.0  \n1    5000.0       21           27  16500.0  \n2    5000.0       19           26  16500.0  \n3    5500.0       24           30  13950.0  \n4    5500.0       18           22  17450.0  \n5    5500.0       19           25  15250.0  \n6    5500.0       19           25  17710.0  \n7    5500.0       19           25  18920.0  \n8    5500.0       17           20  23875.0  \n9    5500.0       16           22      NaN  \n\n[10 rows x 26 columns]",
      "text/html": "<div>\n<style scoped>\n    .dataframe tbody tr th:only-of-type {\n        vertical-align: middle;\n    }\n\n    .dataframe tbody tr th {\n        vertical-align: top;\n    }\n\n    .dataframe thead th {\n        text-align: right;\n    }\n</style>\n<table border=\"1\" class=\"dataframe\">\n  <thead>\n    <tr style=\"text-align: right;\">\n      <th></th>\n      <th>symboling</th>\n      <th>normalized-losses</th>\n      <th>make</th>\n      <th>fuel-type</th>\n      <th>aspiration</th>\n      <th>num-of-doors</th>\n      <th>body-style</th>\n      <th>drive-wheels</th>\n      <th>engine-location</th>\n      <th>wheel-base</th>\n      <th>...</th>\n      <th>engine-size</th>\n      <th>fuel-system</th>\n      <th>bore</th>\n      <th>stroke</th>\n      <th>compression-ratio</th>\n      <th>horsepower</th>\n      <th>peak-rpm</th>\n      <th>city-mpg</th>\n      <th>highway-mpg</th>\n      <th>price</th>\n    </tr>\n  </thead>\n  <tbody>\n    <tr>\n      <th>0</th>\n      <td>3</td>\n      <td>NaN</td>\n      <td>alfa-romero</td>\n      <td>gas</td>\n      <td>std</td>\n      <td>two</td>\n      <td>convertible</td>\n      <td>rwd</td>\n      <td>front</td>\n      <td>88.6</td>\n      <td>...</td>\n      <td>130</td>\n      <td>mpfi</td>\n      <td>3.47</td>\n      <td>2.68</td>\n      <td>9.0</td>\n      <td>111.0</td>\n      <td>5000.0</td>\n      <td>21</td>\n      <td>27</td>\n      <td>13495.0</td>\n    </tr>\n    <tr>\n      <th>1</th>\n      <td>3</td>\n      <td>NaN</td>\n      <td>alfa-romero</td>\n      <td>gas</td>\n      <td>std</td>\n      <td>two</td>\n      <td>convertible</td>\n      <td>rwd</td>\n      <td>front</td>\n      <td>88.6</td>\n      <td>...</td>\n      <td>130</td>\n      <td>mpfi</td>\n      <td>3.47</td>\n      <td>2.68</td>\n      <td>9.0</td>\n      <td>111.0</td>\n      <td>5000.0</td>\n      <td>21</td>\n      <td>27</td>\n      <td>16500.0</td>\n    </tr>\n    <tr>\n      <th>2</th>\n      <td>1</td>\n      <td>NaN</td>\n      <td>alfa-romero</td>\n      <td>gas</td>\n      <td>std</td>\n      <td>two</td>\n      <td>hatchback</td>\n      <td>rwd</td>\n      <td>front</td>\n      <td>94.5</td>\n      <td>...</td>\n      <td>152</td>\n      <td>mpfi</td>\n      <td>2.68</td>\n      <td>3.47</td>\n      <td>9.0</td>\n      <td>154.0</td>\n      <td>5000.0</td>\n      <td>19</td>\n      <td>26</td>\n      <td>16500.0</td>\n    </tr>\n    <tr>\n      <th>3</th>\n      <td>2</td>\n      <td>164.0</td>\n      <td>audi</td>\n      <td>gas</td>\n      <td>std</td>\n      <td>four</td>\n      <td>sedan</td>\n      <td>fwd</td>\n      <td>front</td>\n      <td>99.8</td>\n      <td>...</td>\n      <td>109</td>\n      <td>mpfi</td>\n      <td>3.19</td>\n      <td>3.40</td>\n      <td>10.0</td>\n      <td>102.0</td>\n      <td>5500.0</td>\n      <td>24</td>\n      <td>30</td>\n      <td>13950.0</td>\n    </tr>\n    <tr>\n      <th>4</th>\n      <td>2</td>\n      <td>164.0</td>\n      <td>audi</td>\n      <td>gas</td>\n      <td>std</td>\n      <td>four</td>\n      <td>sedan</td>\n      <td>4wd</td>\n      <td>front</td>\n      <td>99.4</td>\n      <td>...</td>\n      <td>136</td>\n      <td>mpfi</td>\n      <td>3.19</td>\n      <td>3.40</td>\n      <td>8.0</td>\n      <td>115.0</td>\n      <td>5500.0</td>\n      <td>18</td>\n      <td>22</td>\n      <td>17450.0</td>\n    </tr>\n    <tr>\n      <th>5</th>\n      <td>2</td>\n      <td>NaN</td>\n      <td>audi</td>\n      <td>gas</td>\n      <td>std</td>\n      <td>two</td>\n      <td>sedan</td>\n      <td>fwd</td>\n      <td>front</td>\n      <td>99.8</td>\n      <td>...</td>\n      <td>136</td>\n      <td>mpfi</td>\n      <td>3.19</td>\n      <td>3.40</td>\n      <td>8.5</td>\n      <td>110.0</td>\n      <td>5500.0</td>\n      <td>19</td>\n      <td>25</td>\n      <td>15250.0</td>\n    </tr>\n    <tr>\n      <th>6</th>\n      <td>1</td>\n      <td>158.0</td>\n      <td>audi</td>\n      <td>gas</td>\n      <td>std</td>\n      <td>four</td>\n      <td>sedan</td>\n      <td>fwd</td>\n      <td>front</td>\n      <td>105.8</td>\n      <td>...</td>\n      <td>136</td>\n      <td>mpfi</td>\n      <td>3.19</td>\n      <td>3.40</td>\n      <td>8.5</td>\n      <td>110.0</td>\n      <td>5500.0</td>\n      <td>19</td>\n      <td>25</td>\n      <td>17710.0</td>\n    </tr>\n    <tr>\n      <th>7</th>\n      <td>1</td>\n      <td>NaN</td>\n      <td>audi</td>\n      <td>gas</td>\n      <td>std</td>\n      <td>four</td>\n      <td>wagon</td>\n      <td>fwd</td>\n      <td>front</td>\n      <td>105.8</td>\n      <td>...</td>\n      <td>136</td>\n      <td>mpfi</td>\n      <td>3.19</td>\n      <td>3.40</td>\n      <td>8.5</td>\n      <td>110.0</td>\n      <td>5500.0</td>\n      <td>19</td>\n      <td>25</td>\n      <td>18920.0</td>\n    </tr>\n    <tr>\n      <th>8</th>\n      <td>1</td>\n      <td>158.0</td>\n      <td>audi</td>\n      <td>gas</td>\n      <td>turbo</td>\n      <td>four</td>\n      <td>sedan</td>\n      <td>fwd</td>\n      <td>front</td>\n      <td>105.8</td>\n      <td>...</td>\n      <td>131</td>\n      <td>mpfi</td>\n      <td>3.13</td>\n      <td>3.40</td>\n      <td>8.3</td>\n      <td>140.0</td>\n      <td>5500.0</td>\n      <td>17</td>\n      <td>20</td>\n      <td>23875.0</td>\n    </tr>\n    <tr>\n      <th>9</th>\n      <td>0</td>\n      <td>NaN</td>\n      <td>audi</td>\n      <td>gas</td>\n      <td>turbo</td>\n      <td>two</td>\n      <td>hatchback</td>\n      <td>4wd</td>\n      <td>front</td>\n      <td>99.5</td>\n      <td>...</td>\n      <td>131</td>\n      <td>mpfi</td>\n      <td>3.13</td>\n      <td>3.40</td>\n      <td>7.0</td>\n      <td>160.0</td>\n      <td>5500.0</td>\n      <td>16</td>\n      <td>22</td>\n      <td>NaN</td>\n    </tr>\n  </tbody>\n</table>\n<p>10 rows × 26 columns</p>\n</div>"
     },
     "metadata": {},
     "output_type": "execute_result",
     "execution_count": 1
    }
   ],
   "source": [
    "#Task 1: Data Preparation\n",
    "# \"You will start by loading the CSV data from the file (using appropriate pandas functions) and checking whether the loaded data is equivalent to the data in the source CSV file.\n",
    "# Then, you need to clean the data by using the knowledge we taught in the lectures. You need to deal with all the potential issues/errors in the data appropriately (such as: typos, extra whitespaces, sanity checks for impossible values, and missing values etc). \"\n",
    "\n",
    "# Please structure code as follows: \n",
    "# always provide one line of comments to explain the purpose of the code, e.g. load the data, checking the equivalent to original data, checking typos (do this for each other types of errors)\n",
    "file_location = 'data/Automobile.csv'\n",
    "import pandas as pd\n",
    "import numpy as np\n",
    "import matplotlib.pyplot as plt\n",
    "import matplotlib.patches as mpatches\n",
    "# Reading the formatted data\n",
    "data = pd.read_csv(file_location, sep='#', decimal='.', header=None, names=[\n",
    "    'symboling', 'normalized-losses', 'make', 'fuel-type', 'aspiration', 'num-of-doors', 'body-style', 'drive-wheels',\n",
    "    'engine-location', 'wheel-base', 'length', 'width', 'height', 'curb-weight', 'engine-type', 'num-of-cylinders',\n",
    "    'engine-size', 'fuel-system', 'bore', 'stroke', 'compression-ratio', 'horsepower', 'peak-rpm', 'city-mpg', \n",
    "    'highway-mpg', 'price'\n",
    "])\n",
    "# Displaying the first 10 values\n",
    "data.head(10)"
   ]
  },
  {
   "cell_type": "code",
   "execution_count": 2,
   "metadata": {
    "pycharm": {
     "is_executing": false,
     "name": "#%%\n"
    }
   },
   "outputs": [],
   "source": [
    "# Lower all string values\n",
    "data = data.apply(lambda x: x.str.lower() if(x.dtype == 'object') else x)"
   ]
  },
  {
   "cell_type": "code",
   "execution_count": 3,
   "metadata": {
    "pycharm": {
     "is_executing": false,
     "name": "#%%\n"
    }
   },
   "outputs": [],
   "source": [
    "# Trim all redundant whitespaces\n",
    "data = data.apply(lambda x: x.str.strip() if(x.dtype == 'object') else x)"
   ]
  },
  {
   "cell_type": "code",
   "execution_count": 4,
   "metadata": {
    "pycharm": {
     "is_executing": false,
     "name": "#%%\n"
    }
   },
   "outputs": [
    {
     "data": {
      "text/plain": "symboling              int64\nnormalized-losses    float64\nmake                  object\nfuel-type             object\naspiration            object\nnum-of-doors          object\nbody-style            object\ndrive-wheels          object\nengine-location       object\nwheel-base           float64\nlength               float64\nwidth                float64\nheight               float64\ncurb-weight            int64\nengine-type           object\nnum-of-cylinders      object\nengine-size            int64\nfuel-system           object\nbore                 float64\nstroke               float64\ncompression-ratio    float64\nhorsepower           float64\npeak-rpm             float64\ncity-mpg               int64\nhighway-mpg            int64\nprice                float64\ndtype: object"
     },
     "metadata": {},
     "output_type": "execute_result",
     "execution_count": 4
    }
   ],
   "source": [
    "# List all of data types of the data frame\n",
    "data.dtypes"
   ]
  },
  {
   "cell_type": "code",
   "execution_count": 5,
   "metadata": {
    "pycharm": {
     "is_executing": false,
     "name": "#%%\n"
    }
   },
   "outputs": [],
   "source": [
    "def check_if_column_has_nan_value(df, column):\n",
    "    \"\"\" Check if a column has any NaN Value\n",
    "    @:param: df - target dataframe\n",
    "    @:param: column-  target column\n",
    "    @:return: True if column has NaN value(s). False if otherwise\"\"\"\n",
    "    if df[column].isna().any():\n",
    "        return True\n",
    "    else:\n",
    "        return False"
   ]
  },
  {
   "cell_type": "code",
   "execution_count": 6,
   "metadata": {
    "pycharm": {
     "is_executing": false,
     "name": "#%%\n"
    }
   },
   "outputs": [],
   "source": [
    "def check_boundaries(df, column, lower_bound, upper_bound):\n",
    "    \"\"\" Check if a column has any oob value\n",
    "    @:param: df - target dataframe\n",
    "    @:param: column -  target column\n",
    "    @:param: lower_bound - lower bound\n",
    "    @:param: upper_bound - upper bound\n",
    "    @:return: True if column has oob value(s). False if otherwise\"\"\"\n",
    "    if upper_bound is not None:\n",
    "        if df[column].min() < lower_bound or df[column].max() > upper_bound:\n",
    "            return True\n",
    "        elif df[column].eq(0).any().any():\n",
    "            return 'Found 0.0 value(s)' \n",
    "        else:\n",
    "            return False\n",
    "    else:\n",
    "        if df[column].min() < lower_bound:\n",
    "            return True\n",
    "        elif df[column].eq(0).any().any():\n",
    "            return 'Found 0.0 value(s)' \n",
    "        else:\n",
    "            return False"
   ]
  },
  {
   "cell_type": "code",
   "execution_count": 7,
   "metadata": {
    "pycharm": {
     "is_executing": false,
     "name": "#%%\n"
    }
   },
   "outputs": [],
   "source": [
    "def list_unique_values_in_a_column(df, column):\n",
    "    \"\"\" List all unique values in a given column\n",
    "    @:param: df - target dataframe\n",
    "    @:param: column -  target column\n",
    "    @:return: A list of unique values in the given column\"\"\"\n",
    "    return df[column].unique().tolist()"
   ]
  },
  {
   "cell_type": "code",
   "execution_count": 8,
   "metadata": {
    "pycharm": {
     "is_executing": false,
     "name": "#%%\n"
    }
   },
   "outputs": [],
   "source": [
    "def fix_typo(df, column, typo, correct_word):\n",
    "    \"\"\" Replace typo with the correct word\n",
    "    @:param: df - target dataframe\n",
    "    @:param: column -  target column\n",
    "    @:param: typo - target typo\n",
    "    @:param: correct_word - replacement for the typo\n",
    "    @:return: None\"\"\"\n",
    "    mask = df[column] == typo\n",
    "    df.loc[mask, column] = correct_word"
   ]
  },
  {
   "cell_type": "code",
   "execution_count": 9,
   "metadata": {
    "pycharm": {
     "is_executing": false,
     "name": "#%%\n"
    }
   },
   "outputs": [],
   "source": [
    "def replace_oob_values(df, column, oob_value, value, sign):\n",
    "    \"\"\" Replace oob values\n",
    "    @:param: df - target dataframe\n",
    "    @:param: column -  target column\n",
    "    @:param: oob_value - target value for replacement\n",
    "    @:param: value - replacement value\n",
    "    @:param: sign - indicate target boundary\n",
    "    @:return: None\"\"\"\n",
    "    if sign == '>':\n",
    "        mask = df[column] > oob_value\n",
    "        df.loc[mask, column] = value\n",
    "    elif sign == '<':\n",
    "        mask = df[column] < oob_value\n",
    "        df.loc[mask, column] = value"
   ]
  },
  {
   "cell_type": "code",
   "execution_count": 10,
   "metadata": {
    "pycharm": {
     "is_executing": false,
     "name": "#%%\n"
    }
   },
   "outputs": [],
   "source": [
    "def list_nan_values_in_column(df, column):\n",
    "    \"\"\" List all NaN values in the column\n",
    "    @:param: df - target dataframe\n",
    "    @:param: column -  target column\n",
    "    @:return: A list of NaN values in the given column\"\"\"\n",
    "    return df.loc[data[column].isna()]"
   ]
  },
  {
   "cell_type": "code",
   "execution_count": 11,
   "metadata": {
    "pycharm": {
     "is_executing": false,
     "name": "#%%\n"
    }
   },
   "outputs": [
    {
     "name": "stdout",
     "text": [
      "NaN Value(s): False\nOut-of-bound Value(s): True\n"
     ],
     "output_type": "stream"
    }
   ],
   "source": [
    "# Column: Symboling\n",
    "print('NaN Value(s): {}'.format(check_if_column_has_nan_value(data, 'symboling')))\n",
    "print('Out-of-bound Value(s): {}'.format(check_boundaries(data, 'symboling',-3, 3)))"
   ]
  },
  {
   "cell_type": "code",
   "execution_count": 12,
   "metadata": {
    "pycharm": {
     "is_executing": false,
     "name": "#%%\n"
    }
   },
   "outputs": [
    {
     "name": "stdout",
     "text": [
      "NaN Value(s): False\nOut-of-bound Value(s): Found 0.0 value(s)\n"
     ],
     "output_type": "stream"
    }
   ],
   "source": [
    "# Replace greater bound value with maximum value\n",
    "replace_oob_values(data, 'symboling', 3, 3, '>')\n",
    "# Replace lesser bound value with minimum value\n",
    "replace_oob_values(data, 'symboling', -3, -3, '<')\n",
    "print('NaN Value(s): {}'.format(check_if_column_has_nan_value(data, 'symboling')))\n",
    "print('Out-of-bound Value(s): {}'.format(check_boundaries(data, 'symboling',-3, 3)))"
   ]
  },
  {
   "cell_type": "code",
   "execution_count": 13,
   "metadata": {
    "pycharm": {
     "is_executing": false
    }
   },
   "outputs": [
    {
     "data": {
      "text/plain": "['alfa-romero',\n 'audi',\n 'bmw',\n 'chevrolet',\n 'dodge',\n 'honda',\n 'isuzu',\n 'jaguar',\n 'mazda',\n 'mercedes-benz',\n 'mercury',\n 'mitsubishi',\n 'nissan',\n 'peugot',\n 'plymouth',\n 'porsche',\n 'renault',\n 'saab',\n 'subaru',\n 'toyota',\n 'volkswagen',\n 'volvo',\n 'vol00112ov']"
     },
     "metadata": {},
     "output_type": "execute_result",
     "execution_count": 13
    }
   ],
   "source": [
    "# List all unique values in the make column to find typos\n",
    "list_unique_values_in_a_column(data, 'make')\n",
    "# typo = vol00112ov"
   ]
  },
  {
   "cell_type": "code",
   "execution_count": 14,
   "metadata": {
    "pycharm": {
     "is_executing": false,
     "name": "#%%\n"
    }
   },
   "outputs": [
    {
     "data": {
      "text/plain": "['alfa-romero',\n 'audi',\n 'bmw',\n 'chevrolet',\n 'dodge',\n 'honda',\n 'isuzu',\n 'jaguar',\n 'mazda',\n 'mercedes-benz',\n 'mercury',\n 'mitsubishi',\n 'nissan',\n 'peugot',\n 'plymouth',\n 'porsche',\n 'renault',\n 'saab',\n 'subaru',\n 'toyota',\n 'volkswagen',\n 'volvo']"
     },
     "metadata": {},
     "output_type": "execute_result",
     "execution_count": 14
    }
   ],
   "source": [
    "# Replace typo in make column\n",
    "fix_typo(data, 'make', 'vol00112ov', 'volvo')\n",
    "list_unique_values_in_a_column(data, 'make')"
   ]
  },
  {
   "cell_type": "code",
   "execution_count": 15,
   "metadata": {
    "pycharm": {
     "is_executing": false,
     "name": "#%%\n"
    }
   },
   "outputs": [
    {
     "name": "stdout",
     "text": [
      "NaN Value(s): True\nOut-of-bound Value(s): False\n"
     ],
     "output_type": "stream"
    }
   ],
   "source": [
    "# List all unique values in the symboling column to find out-of-bound values\n",
    "print('NaN Value(s): {}'.format(check_if_column_has_nan_value(data, 'normalized-losses')))\n",
    "print('Out-of-bound Value(s): {}'.format(check_boundaries(data, 'normalized-losses',0, None)))"
   ]
  },
  {
   "cell_type": "code",
   "execution_count": 16,
   "metadata": {
    "pycharm": {
     "is_executing": false,
     "name": "#%%\n"
    }
   },
   "outputs": [
    {
     "name": "stdout",
     "text": [
      "NaN Value(s): False\nOut-of-bound Value(s): False\n"
     ],
     "output_type": "stream"
    }
   ],
   "source": [
    "# Replace NaN values with mean of normalized-losses group by make. if mean of group = 0, take the whole column avarage\n",
    "data['normalized-losses'] = data['normalized-losses'].fillna(data.groupby('make')['normalized-losses'].transform('mean'))\n",
    "data['normalized-losses'] = data['normalized-losses'].fillna(data['normalized-losses'].mean())\n",
    "print('NaN Value(s): {}'.format(check_if_column_has_nan_value(data, 'normalized-losses')))\n",
    "print('Out-of-bound Value(s): {}'.format(check_boundaries(data, 'normalized-losses',0, None)))"
   ]
  },
  {
   "cell_type": "code",
   "execution_count": 17,
   "metadata": {
    "pycharm": {
     "is_executing": false,
     "name": "#%%\n"
    }
   },
   "outputs": [
    {
     "data": {
      "text/plain": "['gas', 'diesel']"
     },
     "metadata": {},
     "output_type": "execute_result",
     "execution_count": 17
    }
   ],
   "source": [
    "# List all unique values in the fuel type column to find typos\n",
    "list_unique_values_in_a_column(data, 'fuel-type')\n",
    "# No typo here"
   ]
  },
  {
   "cell_type": "code",
   "execution_count": 18,
   "metadata": {
    "pycharm": {
     "is_executing": false,
     "name": "#%%\n"
    }
   },
   "outputs": [
    {
     "data": {
      "text/plain": "['std', 'turbo', 'turrrrbo']"
     },
     "metadata": {},
     "output_type": "execute_result",
     "execution_count": 18
    }
   ],
   "source": [
    "# List all unique values in the aspiration column to find typos\n",
    "list_unique_values_in_a_column(data, 'aspiration')\n",
    "# typo found: turrrrbo"
   ]
  },
  {
   "cell_type": "code",
   "execution_count": 19,
   "metadata": {
    "pycharm": {
     "is_executing": false,
     "name": "#%%\n"
    }
   },
   "outputs": [
    {
     "data": {
      "text/plain": "['std', 'turbo']"
     },
     "metadata": {},
     "output_type": "execute_result",
     "execution_count": 19
    }
   ],
   "source": [
    "# Replace typo\n",
    "fix_typo(data, 'aspiration', 'turrrrbo', 'turbo')\n",
    "list_unique_values_in_a_column(data, 'aspiration')"
   ]
  },
  {
   "cell_type": "code",
   "execution_count": 20,
   "metadata": {
    "pycharm": {
     "is_executing": false,
     "name": "#%%\n"
    }
   },
   "outputs": [
    {
     "data": {
      "text/plain": "['two', 'four', nan, 'fourr']"
     },
     "metadata": {},
     "output_type": "execute_result",
     "execution_count": 20
    }
   ],
   "source": [
    "# List all unique values in the aspiration column to find typos and NaN\n",
    "list_unique_values_in_a_column(data, 'num-of-doors')\n",
    "# typo found: fourr\n",
    "# NaN found"
   ]
  },
  {
   "cell_type": "code",
   "execution_count": 21,
   "metadata": {
    "pycharm": {
     "is_executing": false,
     "name": "#%%\n"
    }
   },
   "outputs": [
    {
     "data": {
      "text/plain": "['two', 'four', nan]"
     },
     "metadata": {},
     "output_type": "execute_result",
     "execution_count": 21
    }
   ],
   "source": [
    "# Replace typo\n",
    "fix_typo(data, 'num-of-doors', 'fourr', 'four')\n",
    "list_unique_values_in_a_column(data, 'num-of-doors')"
   ]
  },
  {
   "cell_type": "code",
   "execution_count": 22,
   "metadata": {
    "pycharm": {
     "is_executing": false,
     "name": "#%%\n"
    }
   },
   "outputs": [
    {
     "data": {
      "text/plain": "    symboling  normalized-losses   make fuel-type aspiration num-of-doors  \\\n27          1         148.000000  dodge       gas      turbo          NaN   \n63          0         123.933333  mazda    diesel        std          NaN   \n\n   body-style drive-wheels engine-location  wheel-base  ...  engine-size  \\\n27      sedan          fwd           front        93.7  ...           98   \n63      sedan          fwd           front        98.8  ...          122   \n\n    fuel-system  bore  stroke compression-ratio horsepower  peak-rpm city-mpg  \\\n27         mpfi  3.03    3.39               7.6      102.0    5500.0       24   \n63          idi  3.39    3.39              22.7       64.0    4650.0       36   \n\n    highway-mpg    price  \n27           30   8558.0  \n63           42  10795.0  \n\n[2 rows x 26 columns]",
      "text/html": "<div>\n<style scoped>\n    .dataframe tbody tr th:only-of-type {\n        vertical-align: middle;\n    }\n\n    .dataframe tbody tr th {\n        vertical-align: top;\n    }\n\n    .dataframe thead th {\n        text-align: right;\n    }\n</style>\n<table border=\"1\" class=\"dataframe\">\n  <thead>\n    <tr style=\"text-align: right;\">\n      <th></th>\n      <th>symboling</th>\n      <th>normalized-losses</th>\n      <th>make</th>\n      <th>fuel-type</th>\n      <th>aspiration</th>\n      <th>num-of-doors</th>\n      <th>body-style</th>\n      <th>drive-wheels</th>\n      <th>engine-location</th>\n      <th>wheel-base</th>\n      <th>...</th>\n      <th>engine-size</th>\n      <th>fuel-system</th>\n      <th>bore</th>\n      <th>stroke</th>\n      <th>compression-ratio</th>\n      <th>horsepower</th>\n      <th>peak-rpm</th>\n      <th>city-mpg</th>\n      <th>highway-mpg</th>\n      <th>price</th>\n    </tr>\n  </thead>\n  <tbody>\n    <tr>\n      <th>27</th>\n      <td>1</td>\n      <td>148.000000</td>\n      <td>dodge</td>\n      <td>gas</td>\n      <td>turbo</td>\n      <td>NaN</td>\n      <td>sedan</td>\n      <td>fwd</td>\n      <td>front</td>\n      <td>93.7</td>\n      <td>...</td>\n      <td>98</td>\n      <td>mpfi</td>\n      <td>3.03</td>\n      <td>3.39</td>\n      <td>7.6</td>\n      <td>102.0</td>\n      <td>5500.0</td>\n      <td>24</td>\n      <td>30</td>\n      <td>8558.0</td>\n    </tr>\n    <tr>\n      <th>63</th>\n      <td>0</td>\n      <td>123.933333</td>\n      <td>mazda</td>\n      <td>diesel</td>\n      <td>std</td>\n      <td>NaN</td>\n      <td>sedan</td>\n      <td>fwd</td>\n      <td>front</td>\n      <td>98.8</td>\n      <td>...</td>\n      <td>122</td>\n      <td>idi</td>\n      <td>3.39</td>\n      <td>3.39</td>\n      <td>22.7</td>\n      <td>64.0</td>\n      <td>4650.0</td>\n      <td>36</td>\n      <td>42</td>\n      <td>10795.0</td>\n    </tr>\n  </tbody>\n</table>\n<p>2 rows × 26 columns</p>\n</div>"
     },
     "metadata": {},
     "output_type": "execute_result",
     "execution_count": 22
    }
   ],
   "source": [
    "#View all NaN value in this column\n",
    "list_nan_values_in_column(data, 'num-of-doors')"
   ]
  },
  {
   "cell_type": "code",
   "execution_count": 23,
   "metadata": {
    "pycharm": {
     "is_executing": false,
     "name": "#%%\n"
    }
   },
   "outputs": [
    {
     "data": {
      "text/plain": "['two', 'four']"
     },
     "metadata": {},
     "output_type": "execute_result",
     "execution_count": 23
    }
   ],
   "source": [
    "data['num-of-doors'] = data['num-of-doors'].fillna('four')\n",
    "# if body-style == sedan or wagon, most likely a 4-door car\n",
    "list_unique_values_in_a_column(data, 'num-of-doors')"
   ]
  },
  {
   "cell_type": "code",
   "execution_count": 24,
   "metadata": {
    "pycharm": {
     "is_executing": false,
     "name": "#%%\n"
    }
   },
   "outputs": [
    {
     "data": {
      "text/plain": "['convertible', 'hatchback', 'sedan', 'wagon', 'hardtop']"
     },
     "metadata": {},
     "output_type": "execute_result",
     "execution_count": 24
    }
   ],
   "source": [
    "list_unique_values_in_a_column(data, 'body-style')\n",
    "# No NaN values, or typos"
   ]
  },
  {
   "cell_type": "code",
   "execution_count": 25,
   "metadata": {
    "pycharm": {
     "is_executing": false,
     "name": "#%%\n"
    }
   },
   "outputs": [
    {
     "data": {
      "text/plain": "['rwd', 'fwd', '4wd']"
     },
     "metadata": {},
     "output_type": "execute_result",
     "execution_count": 25
    }
   ],
   "source": [
    "list_unique_values_in_a_column(data, 'drive-wheels')\n",
    "# No NaN values, or typos"
   ]
  },
  {
   "cell_type": "code",
   "execution_count": 26,
   "metadata": {
    "pycharm": {
     "is_executing": false,
     "name": "#%%\n"
    }
   },
   "outputs": [
    {
     "data": {
      "text/plain": "['front', 'rear']"
     },
     "metadata": {},
     "output_type": "execute_result",
     "execution_count": 26
    }
   ],
   "source": [
    "list_unique_values_in_a_column(data, 'engine-location')\n",
    "# No NaN values, or typos"
   ]
  },
  {
   "cell_type": "code",
   "execution_count": 27,
   "metadata": {
    "pycharm": {
     "is_executing": false,
     "name": "#%%\n"
    }
   },
   "outputs": [
    {
     "name": "stdout",
     "text": [
      "NaN Value(s): False\nOut-of-bound Value(s): False\n"
     ],
     "output_type": "stream"
    }
   ],
   "source": [
    "# Column: wheel-base\n",
    "print('NaN Value(s): {}'.format(check_if_column_has_nan_value(data, 'wheel-base')))\n",
    "print('Out-of-bound Value(s): {}'.format(check_boundaries(data, 'wheel-base',0, None)))"
   ]
  },
  {
   "cell_type": "code",
   "execution_count": 28,
   "metadata": {
    "pycharm": {
     "is_executing": false,
     "name": "#%%\n"
    }
   },
   "outputs": [
    {
     "name": "stdout",
     "text": [
      "NaN Value(s): False\nOut-of-bound Value(s): False\n"
     ],
     "output_type": "stream"
    }
   ],
   "source": [
    "# Column: length\n",
    "print('NaN Value(s): {}'.format(check_if_column_has_nan_value(data, 'length')))\n",
    "print('Out-of-bound Value(s): {}'.format(check_boundaries(data, 'length',0, None)))"
   ]
  },
  {
   "cell_type": "code",
   "execution_count": 29,
   "metadata": {
    "pycharm": {
     "is_executing": false,
     "name": "#%%\n"
    }
   },
   "outputs": [
    {
     "name": "stdout",
     "text": [
      "NaN Value(s): False\nOut-of-bound Value(s): False\n"
     ],
     "output_type": "stream"
    }
   ],
   "source": [
    "# Column: width\n",
    "print('NaN Value(s): {}'.format(check_if_column_has_nan_value(data, 'width')))\n",
    "print('Out-of-bound Value(s): {}'.format(check_boundaries(data, 'width',0, None)))\n"
   ]
  },
  {
   "cell_type": "code",
   "execution_count": 30,
   "metadata": {
    "pycharm": {
     "is_executing": false,
     "name": "#%%\n"
    }
   },
   "outputs": [
    {
     "name": "stdout",
     "text": [
      "NaN Value(s): False\nOut-of-bound Value(s): False\n"
     ],
     "output_type": "stream"
    }
   ],
   "source": [
    "# Column: height\n",
    "print('NaN Value(s): {}'.format(check_if_column_has_nan_value(data, 'height')))\n",
    "print('Out-of-bound Value(s): {}'.format(check_boundaries(data, 'height',0, None)))"
   ]
  },
  {
   "cell_type": "code",
   "execution_count": 31,
   "metadata": {
    "pycharm": {
     "is_executing": false,
     "name": "#%%\n"
    }
   },
   "outputs": [
    {
     "name": "stdout",
     "text": [
      "NaN Value(s): False\nOut-of-bound Value(s): False\n"
     ],
     "output_type": "stream"
    }
   ],
   "source": [
    "# Column: height\n",
    "print('NaN Value(s): {}'.format(check_if_column_has_nan_value(data, 'curb-weight')))\n",
    "print('Out-of-bound Value(s): {}'.format(check_boundaries(data, 'curb-weight',0, None)))\n",
    "# No NaN or out-of-bound values"
   ]
  },
  {
   "cell_type": "code",
   "execution_count": 32,
   "metadata": {
    "pycharm": {
     "is_executing": false,
     "name": "#%%\n"
    }
   },
   "outputs": [
    {
     "data": {
      "text/plain": "['dohc', 'ohcv', 'ohc', 'l', 'rotor', 'ohcf', 'dohcv']"
     },
     "metadata": {},
     "output_type": "execute_result",
     "execution_count": 32
    }
   ],
   "source": [
    "list_unique_values_in_a_column(data, 'engine-type')\n",
    "# No Typos found"
   ]
  },
  {
   "cell_type": "code",
   "execution_count": 33,
   "metadata": {
    "pycharm": {
     "is_executing": false,
     "name": "#%%\n"
    }
   },
   "outputs": [
    {
     "data": {
      "text/plain": "['four', 'six', 'five', 'three', 'twelve', 'two', 'eight']"
     },
     "metadata": {},
     "output_type": "execute_result",
     "execution_count": 33
    }
   ],
   "source": [
    "list_unique_values_in_a_column(data, 'num-of-cylinders')\n",
    "# No NaN or out-of-bound values"
   ]
  },
  {
   "cell_type": "code",
   "execution_count": 34,
   "metadata": {
    "pycharm": {
     "is_executing": false,
     "name": "#%%\n"
    }
   },
   "outputs": [
    {
     "name": "stdout",
     "text": [
      "NaN Value(s): False\nOut-of-bound Value(s): False\n"
     ],
     "output_type": "stream"
    }
   ],
   "source": [
    "# Column: engine-size\n",
    "print('NaN Value(s): {}'.format(check_if_column_has_nan_value(data, 'engine-size')))\n",
    "print('Out-of-bound Value(s): {}'.format(check_boundaries(data, 'engine-size',0, None)))\n"
   ]
  },
  {
   "cell_type": "code",
   "execution_count": 35,
   "metadata": {
    "pycharm": {
     "is_executing": false,
     "name": "#%%\n"
    }
   },
   "outputs": [
    {
     "data": {
      "text/plain": "['mpfi', '2bbl', 'mfi', '1bbl', 'spfi', '4bbl', 'idi', 'spdi']"
     },
     "metadata": {},
     "output_type": "execute_result",
     "execution_count": 35
    }
   ],
   "source": [
    "list_unique_values_in_a_column(data, 'fuel-system')\n",
    "# No NaN or out-of-bound values"
   ]
  },
  {
   "cell_type": "code",
   "execution_count": 36,
   "metadata": {
    "pycharm": {
     "is_executing": false,
     "name": "#%%\n"
    }
   },
   "outputs": [
    {
     "name": "stdout",
     "text": [
      "NaN Value(s): True\nOut-of-bound Value(s): False\n"
     ],
     "output_type": "stream"
    }
   ],
   "source": [
    "# Column: bore\n",
    "print('NaN Value(s): {}'.format(check_if_column_has_nan_value(data, 'bore')))\n",
    "print('Out-of-bound Value(s): {}'.format(check_boundaries(data, 'bore',0, None)))"
   ]
  },
  {
   "cell_type": "code",
   "execution_count": 37,
   "metadata": {
    "pycharm": {
     "is_executing": false,
     "name": "#%%\n"
    }
   },
   "outputs": [
    {
     "name": "stdout",
     "text": [
      "NaN Value(s): False\nOut-of-bound Value(s): False\n"
     ],
     "output_type": "stream"
    }
   ],
   "source": [
    "# Replacing NaN values with median value since the values in this column are relative close to each other.\n",
    "data['bore'] = data['bore'].fillna(data['bore'].median())\n",
    "print('NaN Value(s): {}'.format(check_if_column_has_nan_value(data, 'bore')))\n",
    "print('Out-of-bound Value(s): {}'.format(check_boundaries(data, 'bore',0, None)))"
   ]
  },
  {
   "cell_type": "code",
   "execution_count": 38,
   "metadata": {
    "pycharm": {
     "is_executing": false,
     "name": "#%%\n"
    }
   },
   "outputs": [
    {
     "name": "stdout",
     "text": [
      "NaN Value(s): True\nOut-of-bound Value(s): False\n"
     ],
     "output_type": "stream"
    }
   ],
   "source": [
    "# Column: stroke\n",
    "print('NaN Value(s): {}'.format(check_if_column_has_nan_value(data, 'stroke')))\n",
    "print('Out-of-bound Value(s): {}'.format(check_boundaries(data, 'stroke',0, None)))"
   ]
  },
  {
   "cell_type": "code",
   "execution_count": 39,
   "metadata": {
    "pycharm": {
     "is_executing": false,
     "name": "#%%\n"
    }
   },
   "outputs": [
    {
     "name": "stdout",
     "text": [
      "NaN Value(s): False\nOut-of-bound Value(s): False\n"
     ],
     "output_type": "stream"
    }
   ],
   "source": [
    "# Replacing NaN values with median value since the values in this column are relative close to each other.\n",
    "data['stroke'] = data['stroke'].fillna(data['stroke'].median())\n",
    "print('NaN Value(s): {}'.format(check_if_column_has_nan_value(data, 'stroke')))\n",
    "print('Out-of-bound Value(s): {}'.format(check_boundaries(data, 'stroke',0, None)))"
   ]
  },
  {
   "cell_type": "code",
   "execution_count": 40,
   "metadata": {
    "pycharm": {
     "is_executing": false,
     "name": "#%%\n"
    }
   },
   "outputs": [
    {
     "name": "stdout",
     "text": [
      "NaN Value(s): False\nOut-of-bound Value(s): False\n"
     ],
     "output_type": "stream"
    }
   ],
   "source": [
    "# Column: 'compression-ratio'\n",
    "print('NaN Value(s): {}'.format(check_if_column_has_nan_value(data, 'compression-ratio')))\n",
    "print('Out-of-bound Value(s): {}'.format(check_boundaries(data, 'compression-ratio',0, None)))"
   ]
  },
  {
   "cell_type": "code",
   "execution_count": 41,
   "metadata": {
    "pycharm": {
     "is_executing": false,
     "name": "#%%\n"
    }
   },
   "outputs": [
    {
     "name": "stdout",
     "text": [
      "NaN Value(s): True\nOut-of-bound Value(s): False\n"
     ],
     "output_type": "stream"
    }
   ],
   "source": [
    "# Column: 'horsepower'\n",
    "print('NaN Value(s): {}'.format(check_if_column_has_nan_value(data, 'horsepower')))\n",
    "print('Out-of-bound Value(s): {}'.format(check_boundaries(data, 'horsepower',0, None)))\n",
    "# NaN Value Found"
   ]
  },
  {
   "cell_type": "code",
   "execution_count": 42,
   "metadata": {
    "pycharm": {
     "is_executing": false,
     "name": "#%%\n"
    }
   },
   "outputs": [
    {
     "name": "stdout",
     "text": [
      "NaN Value(s): False\nOut-of-bound Value(s): False\n"
     ],
     "output_type": "stream"
    }
   ],
   "source": [
    "# Num of cylinders has a positive correlation with horsepower\n",
    "# Replace NaN values with the average values calculate by grouping engine-type and num-of-cylinders\n",
    "data['horsepower'] = data['horsepower'].fillna(data.groupby(['engine-type', 'num-of-cylinders'])['horsepower'].transform('mean'))\n",
    "data['horsepower'] = data['horsepower'].fillna(data['horsepower'].mean())\n",
    "print('NaN Value(s): {}'.format(check_if_column_has_nan_value(data, 'horsepower')))\n",
    "print('Out-of-bound Value(s): {}'.format(check_boundaries(data, 'horsepower',0, None)))"
   ]
  },
  {
   "cell_type": "code",
   "execution_count": 43,
   "metadata": {
    "pycharm": {
     "is_executing": false,
     "name": "#%%\n"
    }
   },
   "outputs": [
    {
     "name": "stdout",
     "text": [
      "NaN Value(s): True\nOut-of-bound Value(s): False\n"
     ],
     "output_type": "stream"
    }
   ],
   "source": [
    "# Column: 'peak-rpm'\n",
    "print('NaN Value(s): {}'.format(check_if_column_has_nan_value(data, 'peak-rpm')))\n",
    "print('Out-of-bound Value(s): {}'.format(check_boundaries(data, 'peak-rpm',0, None)))\n",
    "# NaN Value Found"
   ]
  },
  {
   "cell_type": "code",
   "execution_count": 44,
   "metadata": {
    "pycharm": {
     "is_executing": false,
     "name": "#%%\n"
    }
   },
   "outputs": [
    {
     "name": "stdout",
     "text": [
      "NaN Value(s): False\nOut-of-bound Value(s): False\n"
     ],
     "output_type": "stream"
    }
   ],
   "source": [
    "# Peak RPM depends on the fuel system\n",
    "data['peak-rpm'] = data['peak-rpm'].fillna(data.groupby(['fuel-system'])['peak-rpm'].transform('mean'))\n",
    "data['peak-rpm'] = data['peak-rpm'].fillna(data['peak-rpm'].mean())\n",
    "print('NaN Value(s): {}'.format(check_if_column_has_nan_value(data, 'peak-rpm')))\n",
    "print('Out-of-bound Value(s): {}'.format(check_boundaries(data, 'peak-rpm',0, None)))\n"
   ]
  },
  {
   "cell_type": "code",
   "execution_count": 45,
   "metadata": {
    "pycharm": {
     "is_executing": false,
     "name": "#%%\n"
    }
   },
   "outputs": [
    {
     "name": "stdout",
     "text": [
      "NaN Value(s): False\nOut-of-bound Value(s): False\n"
     ],
     "output_type": "stream"
    }
   ],
   "source": [
    "print('NaN Value(s): {}'.format(check_if_column_has_nan_value(data, 'city-mpg')))\n",
    "print('Out-of-bound Value(s): {}'.format(check_boundaries(data, 'city-mpg',0, None)))\n",
    "# No NaN or out-of-bound values"
   ]
  },
  {
   "cell_type": "code",
   "execution_count": 46,
   "metadata": {
    "pycharm": {
     "is_executing": false,
     "name": "#%%\n"
    }
   },
   "outputs": [
    {
     "name": "stdout",
     "text": [
      "NaN Value(s): False\nOut-of-bound Value(s): False\n"
     ],
     "output_type": "stream"
    }
   ],
   "source": [
    "print('NaN Value(s): {}'.format(check_if_column_has_nan_value(data, 'highway-mpg')))\n",
    "print('Out-of-bound Value(s): {}'.format(check_boundaries(data, 'highway-mpg',0, None)))\n",
    "# No NaN or out-of-bound values"
   ]
  },
  {
   "cell_type": "code",
   "execution_count": 47,
   "metadata": {
    "pycharm": {
     "is_executing": false,
     "name": "#%%\n"
    }
   },
   "outputs": [
    {
     "name": "stdout",
     "text": [
      "NaN Value(s): True\nOut-of-bound Value(s): Found 0.0 value(s)\n"
     ],
     "output_type": "stream"
    }
   ],
   "source": [
    "print('NaN Value(s): {}'.format(check_if_column_has_nan_value(data, 'price')))\n",
    "print('Out-of-bound Value(s): {}'.format(check_boundaries(data, 'price', 0, None)))\n",
    "# NaN and 0 value found"
   ]
  },
  {
   "cell_type": "code",
   "execution_count": 48,
   "metadata": {
    "pycharm": {
     "is_executing": false,
     "name": "#%%\n"
    }
   },
   "outputs": [
    {
     "name": "stdout",
     "text": [
      "NaN Value(s): False\nOut-of-bound Value(s): False\n"
     ],
     "output_type": "stream"
    }
   ],
   "source": [
    "# Replace NaN values with the make's average\n",
    "data['price'] = data['price'].fillna(data.groupby('make')['price'].transform('mean'))\n",
    "data['price'] = data['price'].fillna(data['price'].mean())\n",
    "# Replace 0.0 with with NaN\n",
    "data['price'] = data['price'].replace(0.0, np.nan)\n",
    "# Replace Nan Values with make's average price\n",
    "data['price'] = data['price'].fillna(data.groupby('make')['price'].transform('mean'))\n",
    "data['price'] = data['price'].fillna(data['price'].mean())\n",
    "print('NaN Value(s): {}'.format(check_if_column_has_nan_value(data, 'price')))\n",
    "print('Out-of-bound Value(s): {}'.format(check_boundaries(data, 'price', 0, None)))"
   ]
  },
  {
   "cell_type": "code",
   "execution_count": 49,
   "metadata": {
    "pycharm": {
     "is_executing": false,
     "name": "#%%\n"
    }
   },
   "outputs": [],
   "source": [
    "# Task 2: Data Exploration\n",
    "# 1. Choose 1 column with nominal values, 1 column with ordinal Values, and 1 column with numerical values\n",
    "\n",
    "#Code goes after this line\n",
    "nominal_value = 'make'\n",
    "ordinal_value = 'symboling'\n",
    "numerical_value = 'price'"
   ]
  },
  {
   "cell_type": "code",
   "execution_count": 50,
   "metadata": {
    "pycharm": {
     "is_executing": false,
     "name": "#%%\n"
    }
   },
   "outputs": [
    {
     "data": {
      "image/png": "[encoded data removed]",
      "text/plain": "<Figure size 432x288 with 1 Axes>"
     },
     "metadata": {
      "needs_background": "light"
     },
     "output_type": "display_data"
    }
   ],
   "source": [
    "%matplotlib inline\n",
    "# Graph for make\n",
    "data['make'].value_counts().plot(kind='bar')\n",
    "plt.title('Car Manufacturers Distribution')\n",
    "plt.xlabel('Manufacturer')\n",
    "plt.savefig('make.png', bbox_inches = 'tight')\n",
    "plt.show()\n",
    "plt.close()"
   ]
  },
  {
   "cell_type": "code",
   "execution_count": 51,
   "metadata": {
    "pycharm": {
     "is_executing": false,
     "name": "#%%\n"
    }
   },
   "outputs": [
    {
     "data": {
      "image/png": "[encoded data removed]",
      "text/plain": "<Figure size 432x288 with 1 Axes>"
     },
     "metadata": {
      "needs_background": "light"
     },
     "output_type": "display_data"
    }
   ],
   "source": [
    "%matplotlib inline\n",
    "# Graph for Symboling\n",
    "data['symboling'].value_counts().plot(kind='bar')\n",
    "plt.title('Symboling')\n",
    "plt.xlabel('Symboling Ratings')\n",
    "plt.savefig('symboling.png', bbox_inches = 'tight')\n",
    "plt.show()\n",
    "plt.close()"
   ]
  },
  {
   "cell_type": "code",
   "execution_count": 52,
   "metadata": {
    "pycharm": {
     "is_executing": false,
     "name": "#%%\n"
    }
   },
   "outputs": [
    {
     "data": {
      "image/png": "[encoded data removed]",
      "text/plain": "<Figure size 432x288 with 1 Axes>"
     },
     "metadata": {
      "needs_background": "light"
     },
     "output_type": "display_data"
    }
   ],
   "source": [
    "%matplotlib inline\n",
    "# Graph for price\n",
    "data['price'].plot(kind='hist', bins=10)\n",
    "plt.title('Histogram of Price')\n",
    "plt.xlabel('Price')\n",
    "plt.savefig('price.png', bbox_inches = 'tight')\n",
    "plt.show()\n",
    "plt.close()\n"
   ]
  },
  {
   "cell_type": "code",
   "execution_count": 64,
   "metadata": {
    "pycharm": {
     "is_executing": false,
     "name": "#%%\n"
    }
   },
   "outputs": [
    {
     "data": {
      "image/png": "[encoded data removed]",
      "text/plain": "<Figure size 432x288 with 1 Axes>"
     },
     "metadata": {
      "needs_background": "light"
     },
     "output_type": "display_data"
    }
   ],
   "source": [
    "# Task 2: Data Exploration\n",
    "# 2. Explore the relationships between columns; at least 3 visualisations with plausible hypothesis\n",
    "%matplotlib inline\n",
    "#Code goes after this line\n",
    "data.groupby('make')['symboling'].mean().plot(kind='bar')\n",
    "plt.title('Average Symboling Ratings by Make')\n",
    "plt.xlabel('Make')\n",
    "plt.ylabel('Symboling Ratings')\n",
    "plt.savefig('makeNsymboling.png', bbox_inches = 'tight')\n",
    "plt.show()\n",
    "plt.close()"
   ]
  },
  {
   "cell_type": "code",
   "execution_count": 59,
   "outputs": [
    {
     "data": {
      "image/png": "[encoded data removed]",
      "text/plain": "<Figure size 432x288 with 1 Axes>"
     },
     "metadata": {
      "needs_background": "light"
     },
     "output_type": "display_data"
    }
   ],
   "source": [
    "color_palette = {'gas': 'red', 'diesel':'blue'}\n",
    "colors = [color_palette[c] for c in data['fuel-type']]\n",
    "data.plot.scatter(x='city-mpg', y='highway-mpg', c=colors)\n",
    "leg_el = [mpatches.Patch(facecolor = value, edgecolor = \"black\", label = key) for key, value in color_palette.items()]\n",
    "plt.legend(handles = leg_el)\n",
    "plt.grid()\n",
    "plt.savefig('fueltypeNcitympg.png', bbox_inches = 'tight')\n",
    "plt.show()"
   ],
   "metadata": {
    "collapsed": false,
    "pycharm": {
     "name": "#%%\n",
     "is_executing": false
    }
   }
  },
  {
   "cell_type": "code",
   "execution_count": 63,
   "outputs": [
    {
     "data": {
      "image/png": "[encoded data removed]",
      "text/plain": "<Figure size 432x288 with 1 Axes>"
     },
     "metadata": {
      "needs_background": "light"
     },
     "output_type": "display_data"
    }
   ],
   "source": [
    "data.groupby('body-style')['symboling'].mean().plot(kind='barh')\n",
    "plt.title('Average Symboling Ratings by Body Styles')\n",
    "plt.xlabel('Symboling Ratings')\n",
    "plt.ylabel('Styles')\n",
    "plt.savefig('symbolingNbodystyle.png', bbox_inches = 'tight')\n",
    "plt.show()\n",
    "plt.close()"
   ],
   "metadata": {
    "collapsed": false,
    "pycharm": {
     "name": "#%%\n",
     "is_executing": false
    }
   }
  },
  {
   "cell_type": "code",
   "execution_count": 57,
   "metadata": {
    "pycharm": {
     "is_executing": false
    },
    "scrolled": true
   },
   "outputs": [],
   "source": [
    "# Task 2: Data Exploration\n",
    "# 3. Scatter matrix for all numerical columns\n",
    "\n",
    "#Code goes after this line\n",
    "# %matplotlib inline\n",
    "# from pandas.plotting import scatter_matrix\n",
    "# sm = scatter_matrix(data._get_numeric_data(), figsize=(20,20), diagonal=\"kde\")\n",
    "# #Change label rotation\n",
    "# [s.xaxis.label.set_rotation(45) for s in sm.reshape(-1)]\n",
    "# [s.yaxis.label.set_rotation(0) for s in sm.reshape(-1)]\n",
    "# \n",
    "# #May need to offset label when rotating to prevent overlap of figure\n",
    "# [s.get_yaxis().set_label_coords(-0.3,0.5) for s in sm.reshape(-1)]\n",
    "# \n",
    "# #Hide all ticks\n",
    "# [s.set_xticks(()) for s in sm.reshape(-1)]\n",
    "# [s.set_yticks(()) for s in sm.reshape(-1)]\n",
    "# plt.title('Numerical Data Scatter Plot')\n",
    "# plt.savefig('scatter.png', bbox_inches = 'tight')\n",
    "# plt.show()\n",
    "# plt.close()"
   ]
  },
  {
   "cell_type": "code",
   "execution_count": 57,
   "metadata": {
    "pycharm": {
     "is_executing": false
    }
   },
   "outputs": [],
   "source": []
  }
 ],
 "metadata": {
  "kernelspec": {
   "display_name": "Python 2",
   "language": "python",
   "name": "python2"
  },
  "language_info": {
   "codemirror_mode": {
    "name": "ipython",
    "version": 2
   },
   "file_extension": ".py",
   "mimetype": "text/x-python",
   "name": "python",
   "nbconvert_exporter": "python",
   "pygments_lexer": "ipython2",
   "version": "2.7.16"
  },
  "pycharm": {
   "stem_cell": {
    "cell_type": "raw",
    "source": [],
    "metadata": {
     "collapsed": false
    }
   }
  }
 },
 "nbformat": 4,
 "nbformat_minor": 2
}