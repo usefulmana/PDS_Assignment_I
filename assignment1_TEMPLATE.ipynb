{
 "cells": [
  {
   "cell_type": "code",
   "execution_count": 218,
   "metadata": {
    "pycharm": {
     "is_executing": false
    }
   },
   "outputs": [
    {
     "data": {
      "text/plain": "   symboling  normalized-losses         make fuel-type aspiration  \\\n0          3                NaN  alfa-romero       gas        std   \n1          3                NaN  alfa-romero       gas        std   \n2          1                NaN  alfa-romero       gas        std   \n3          2              164.0         audi       gas        std   \n4          2              164.0         audi       gas        std   \n5          2                NaN         audi       gas        std   \n6          1              158.0         audi       gas        std   \n7          1                NaN         audi       gas        std   \n8          1              158.0         audi       gas      turbo   \n9          0                NaN         audi       gas      turbo   \n\n  num-of-doors   body-style drive-wheels engine-location  wheel-base  ...  \\\n0          two  convertible          rwd           front        88.6  ...   \n1          two  convertible          rwd           front        88.6  ...   \n2          two    hatchback          rwd           front        94.5  ...   \n3         four        sedan          fwd           front        99.8  ...   \n4         four        sedan          4wd           front        99.4  ...   \n5          two        sedan          fwd           front        99.8  ...   \n6         four        sedan          fwd           front       105.8  ...   \n7         four        wagon          fwd           front       105.8  ...   \n8         four        sedan          fwd           front       105.8  ...   \n9          two    hatchback          4wd           front        99.5  ...   \n\n   engine-size  fuel-system  bore  stroke compression-ratio horsepower  \\\n0          130         mpfi  3.47    2.68               9.0      111.0   \n1          130         mpfi  3.47    2.68               9.0      111.0   \n2          152         mpfi  2.68    3.47               9.0      154.0   \n3          109         mpfi  3.19    3.40              10.0      102.0   \n4          136         mpfi  3.19    3.40               8.0      115.0   \n5          136         mpfi  3.19    3.40               8.5      110.0   \n6          136         mpfi  3.19    3.40               8.5      110.0   \n7          136         mpfi  3.19    3.40               8.5      110.0   \n8          131         mpfi  3.13    3.40               8.3      140.0   \n9          131         mpfi  3.13    3.40               7.0      160.0   \n\n   peak-rpm city-mpg  highway-mpg    price  \n0    5000.0       21           27  13495.0  \n1    5000.0       21           27  16500.0  \n2    5000.0       19           26  16500.0  \n3    5500.0       24           30  13950.0  \n4    5500.0       18           22  17450.0  \n5    5500.0       19           25  15250.0  \n6    5500.0       19           25  17710.0  \n7    5500.0       19           25  18920.0  \n8    5500.0       17           20  23875.0  \n9    5500.0       16           22      NaN  \n\n[10 rows x 26 columns]",
      "text/html": "<div>\n<style scoped>\n    .dataframe tbody tr th:only-of-type {\n        vertical-align: middle;\n    }\n\n    .dataframe tbody tr th {\n        vertical-align: top;\n    }\n\n    .dataframe thead th {\n        text-align: right;\n    }\n</style>\n<table border=\"1\" class=\"dataframe\">\n  <thead>\n    <tr style=\"text-align: right;\">\n      <th></th>\n      <th>symboling</th>\n      <th>normalized-losses</th>\n      <th>make</th>\n      <th>fuel-type</th>\n      <th>aspiration</th>\n      <th>num-of-doors</th>\n      <th>body-style</th>\n      <th>drive-wheels</th>\n      <th>engine-location</th>\n      <th>wheel-base</th>\n      <th>...</th>\n      <th>engine-size</th>\n      <th>fuel-system</th>\n      <th>bore</th>\n      <th>stroke</th>\n      <th>compression-ratio</th>\n      <th>horsepower</th>\n      <th>peak-rpm</th>\n      <th>city-mpg</th>\n      <th>highway-mpg</th>\n      <th>price</th>\n    </tr>\n  </thead>\n  <tbody>\n    <tr>\n      <th>0</th>\n      <td>3</td>\n      <td>NaN</td>\n      <td>alfa-romero</td>\n      <td>gas</td>\n      <td>std</td>\n      <td>two</td>\n      <td>convertible</td>\n      <td>rwd</td>\n      <td>front</td>\n      <td>88.6</td>\n      <td>...</td>\n      <td>130</td>\n      <td>mpfi</td>\n      <td>3.47</td>\n      <td>2.68</td>\n      <td>9.0</td>\n      <td>111.0</td>\n      <td>5000.0</td>\n      <td>21</td>\n      <td>27</td>\n      <td>13495.0</td>\n    </tr>\n    <tr>\n      <th>1</th>\n      <td>3</td>\n      <td>NaN</td>\n      <td>alfa-romero</td>\n      <td>gas</td>\n      <td>std</td>\n      <td>two</td>\n      <td>convertible</td>\n      <td>rwd</td>\n      <td>front</td>\n      <td>88.6</td>\n      <td>...</td>\n      <td>130</td>\n      <td>mpfi</td>\n      <td>3.47</td>\n      <td>2.68</td>\n      <td>9.0</td>\n      <td>111.0</td>\n      <td>5000.0</td>\n      <td>21</td>\n      <td>27</td>\n      <td>16500.0</td>\n    </tr>\n    <tr>\n      <th>2</th>\n      <td>1</td>\n      <td>NaN</td>\n      <td>alfa-romero</td>\n      <td>gas</td>\n      <td>std</td>\n      <td>two</td>\n      <td>hatchback</td>\n      <td>rwd</td>\n      <td>front</td>\n      <td>94.5</td>\n      <td>...</td>\n      <td>152</td>\n      <td>mpfi</td>\n      <td>2.68</td>\n      <td>3.47</td>\n      <td>9.0</td>\n      <td>154.0</td>\n      <td>5000.0</td>\n      <td>19</td>\n      <td>26</td>\n      <td>16500.0</td>\n    </tr>\n    <tr>\n      <th>3</th>\n      <td>2</td>\n      <td>164.0</td>\n      <td>audi</td>\n      <td>gas</td>\n      <td>std</td>\n      <td>four</td>\n      <td>sedan</td>\n      <td>fwd</td>\n      <td>front</td>\n      <td>99.8</td>\n      <td>...</td>\n      <td>109</td>\n      <td>mpfi</td>\n      <td>3.19</td>\n      <td>3.40</td>\n      <td>10.0</td>\n      <td>102.0</td>\n      <td>5500.0</td>\n      <td>24</td>\n      <td>30</td>\n      <td>13950.0</td>\n    </tr>\n    <tr>\n      <th>4</th>\n      <td>2</td>\n      <td>164.0</td>\n      <td>audi</td>\n      <td>gas</td>\n      <td>std</td>\n      <td>four</td>\n      <td>sedan</td>\n      <td>4wd</td>\n      <td>front</td>\n      <td>99.4</td>\n      <td>...</td>\n      <td>136</td>\n      <td>mpfi</td>\n      <td>3.19</td>\n      <td>3.40</td>\n      <td>8.0</td>\n      <td>115.0</td>\n      <td>5500.0</td>\n      <td>18</td>\n      <td>22</td>\n      <td>17450.0</td>\n    </tr>\n    <tr>\n      <th>5</th>\n      <td>2</td>\n      <td>NaN</td>\n      <td>audi</td>\n      <td>gas</td>\n      <td>std</td>\n      <td>two</td>\n      <td>sedan</td>\n      <td>fwd</td>\n      <td>front</td>\n      <td>99.8</td>\n      <td>...</td>\n      <td>136</td>\n      <td>mpfi</td>\n      <td>3.19</td>\n      <td>3.40</td>\n      <td>8.5</td>\n      <td>110.0</td>\n      <td>5500.0</td>\n      <td>19</td>\n      <td>25</td>\n      <td>15250.0</td>\n    </tr>\n    <tr>\n      <th>6</th>\n      <td>1</td>\n      <td>158.0</td>\n      <td>audi</td>\n      <td>gas</td>\n      <td>std</td>\n      <td>four</td>\n      <td>sedan</td>\n      <td>fwd</td>\n      <td>front</td>\n      <td>105.8</td>\n      <td>...</td>\n      <td>136</td>\n      <td>mpfi</td>\n      <td>3.19</td>\n      <td>3.40</td>\n      <td>8.5</td>\n      <td>110.0</td>\n      <td>5500.0</td>\n      <td>19</td>\n      <td>25</td>\n      <td>17710.0</td>\n    </tr>\n    <tr>\n      <th>7</th>\n      <td>1</td>\n      <td>NaN</td>\n      <td>audi</td>\n      <td>gas</td>\n      <td>std</td>\n      <td>four</td>\n      <td>wagon</td>\n      <td>fwd</td>\n      <td>front</td>\n      <td>105.8</td>\n      <td>...</td>\n      <td>136</td>\n      <td>mpfi</td>\n      <td>3.19</td>\n      <td>3.40</td>\n      <td>8.5</td>\n      <td>110.0</td>\n      <td>5500.0</td>\n      <td>19</td>\n      <td>25</td>\n      <td>18920.0</td>\n    </tr>\n    <tr>\n      <th>8</th>\n      <td>1</td>\n      <td>158.0</td>\n      <td>audi</td>\n      <td>gas</td>\n      <td>turbo</td>\n      <td>four</td>\n      <td>sedan</td>\n      <td>fwd</td>\n      <td>front</td>\n      <td>105.8</td>\n      <td>...</td>\n      <td>131</td>\n      <td>mpfi</td>\n      <td>3.13</td>\n      <td>3.40</td>\n      <td>8.3</td>\n      <td>140.0</td>\n      <td>5500.0</td>\n      <td>17</td>\n      <td>20</td>\n      <td>23875.0</td>\n    </tr>\n    <tr>\n      <th>9</th>\n      <td>0</td>\n      <td>NaN</td>\n      <td>audi</td>\n      <td>gas</td>\n      <td>turbo</td>\n      <td>two</td>\n      <td>hatchback</td>\n      <td>4wd</td>\n      <td>front</td>\n      <td>99.5</td>\n      <td>...</td>\n      <td>131</td>\n      <td>mpfi</td>\n      <td>3.13</td>\n      <td>3.40</td>\n      <td>7.0</td>\n      <td>160.0</td>\n      <td>5500.0</td>\n      <td>16</td>\n      <td>22</td>\n      <td>NaN</td>\n    </tr>\n  </tbody>\n</table>\n<p>10 rows × 26 columns</p>\n</div>"
     },
     "metadata": {},
     "output_type": "execute_result",
     "execution_count": 218
    }
   ],
   "source": [
    "#Task 1: Data Preparation\n",
    "# \"You will start by loading the CSV data from the file (using appropriate pandas functions) and checking whether the loaded data is equivalent to the data in the source CSV file.\n",
    "# Then, you need to clean the data by using the knowledge we taught in the lectures. You need to deal with all the potential issues/errors in the data appropriately (such as: typos, extra whitespaces, sanity checks for impossible values, and missing values etc). \"\n",
    "\n",
    "# Please structure code as follows: \n",
    "# always provide one line of comments to explain the purpose of the code, e.g. load the data, checking the equivalent to original data, checking typos (do this for each other types of errors)\n",
    "# Formatting the csv file\n",
    "file_location = 'data/Automobile.csv'\n",
    "import pandas as pd\n",
    "# Reading the formatted data\n",
    "data = pd.read_csv(file_location, sep='#', decimal='.', header=None, names=[\n",
    "    'symboling', 'normalized-losses', 'make', 'fuel-type', 'aspiration', 'num-of-doors', 'body-style', 'drive-wheels',\n",
    "    'engine-location', 'wheel-base', 'length', 'width', 'height', 'curb-weight', 'engine-type', 'num-of-cylinders',\n",
    "    'engine-size', 'fuel-system', 'bore', 'stroke', 'compression-ratio', 'horsepower', 'peak-rpm', 'city-mpg', \n",
    "    'highway-mpg', 'price'\n",
    "])\n",
    "# Displaying the first 10 values\n",
    "data.head(10)"
   ]
  },
  {
   "cell_type": "code",
   "execution_count": 219,
   "outputs": [],
   "source": [
    "# Lower all string values\n",
    "data = data.apply(lambda x: x.str.lower() if(x.dtype == 'object') else x)"
   ],
   "metadata": {
    "collapsed": false,
    "pycharm": {
     "name": "#%%\n",
     "is_executing": false
    }
   }
  },
  {
   "cell_type": "code",
   "execution_count": 220,
   "outputs": [],
   "source": [
    "# Trim all redundant whitespaces\n",
    "data = data.apply(lambda x: x.str.strip() if(x.dtype == 'object') else x)"
   ],
   "metadata": {
    "collapsed": false,
    "pycharm": {
     "name": "#%%\n",
     "is_executing": false
    }
   }
  },
  {
   "cell_type": "code",
   "execution_count": 221,
   "outputs": [
    {
     "data": {
      "text/plain": "symboling              int64\nnormalized-losses    float64\nmake                  object\nfuel-type             object\naspiration            object\nnum-of-doors          object\nbody-style            object\ndrive-wheels          object\nengine-location       object\nwheel-base           float64\nlength               float64\nwidth                float64\nheight               float64\ncurb-weight            int64\nengine-type           object\nnum-of-cylinders      object\nengine-size            int64\nfuel-system           object\nbore                 float64\nstroke               float64\ncompression-ratio    float64\nhorsepower           float64\npeak-rpm             float64\ncity-mpg               int64\nhighway-mpg            int64\nprice                float64\ndtype: object"
     },
     "metadata": {},
     "output_type": "execute_result",
     "execution_count": 221
    }
   ],
   "source": [
    "# List all of data types of the data frame\n",
    "data.dtypes"
   ],
   "metadata": {
    "collapsed": false,
    "pycharm": {
     "name": "#%%\n",
     "is_executing": false
    }
   }
  },
  {
   "cell_type": "code",
   "execution_count": 222,
   "outputs": [],
   "source": [
    "def list_unique_values_in_a_column(df, column):\n",
    "    return df[column].unique().tolist()"
   ],
   "metadata": {
    "collapsed": false,
    "pycharm": {
     "name": "#%%\n",
     "is_executing": false
    }
   }
  },
  {
   "cell_type": "code",
   "execution_count": 223,
   "outputs": [],
   "source": [
    "def fix_typo(df, column, typo, correct_word):\n",
    "    mask = df[column] == typo\n",
    "    df.loc[mask, column] = correct_word"
   ],
   "metadata": {
    "collapsed": false,
    "pycharm": {
     "name": "#%%\n",
     "is_executing": false
    }
   }
  },
  {
   "cell_type": "code",
   "execution_count": 224,
   "outputs": [],
   "source": [
    "def replace_oob_values(df, column, oob_value, value, sign):\n",
    "    if sign == '>':\n",
    "        mask = df[column] > oob_value\n",
    "        df.loc[mask, column] = value\n",
    "    elif sign == '<':\n",
    "        mask = df[column] < oob_value\n",
    "        df.loc[mask, column] = value"
   ],
   "metadata": {
    "collapsed": false,
    "pycharm": {
     "name": "#%%\n",
     "is_executing": false
    }
   }
  },
  {
   "cell_type": "code",
   "execution_count": 225,
   "outputs": [],
   "source": [
    "def list_nan_values_in_column(df, column):\n",
    "    return df.loc[data[column].isna()]"
   ],
   "metadata": {
    "collapsed": false,
    "pycharm": {
     "name": "#%%\n",
     "is_executing": false
    }
   }
  },
  {
   "cell_type": "code",
   "execution_count": 226,
   "outputs": [
    {
     "data": {
      "text/plain": "[3, 1, 2, 0, -1, -2, 4]"
     },
     "metadata": {},
     "output_type": "execute_result",
     "execution_count": 226
    }
   ],
   "source": [
    "# List all unique values in the symboling column to find out-of-bound values\n",
    "list_unique_values_in_a_column(data, 'symboling')"
   ],
   "metadata": {
    "collapsed": false,
    "pycharm": {
     "name": "#%%\n",
     "is_executing": false
    }
   }
  },
  {
   "cell_type": "code",
   "execution_count": 227,
   "outputs": [
    {
     "data": {
      "text/plain": "[3, 1, 2, 0, -1, -2]"
     },
     "metadata": {},
     "output_type": "execute_result",
     "execution_count": 227
    }
   ],
   "source": [
    "# Replace typo in make column\n",
    "replace_oob_values(data, 'symboling', 3, 3, '>')\n",
    "replace_oob_values(data, 'symboling', -3, -3, '<')\n",
    "list_unique_values_in_a_column(data, 'symboling')"
   ],
   "metadata": {
    "collapsed": false,
    "pycharm": {
     "name": "#%%\n",
     "is_executing": false
    }
   }
  },
  {
   "cell_type": "code",
   "execution_count": 265,
   "outputs": [
    {
     "data": {
      "text/plain": "[nan,\n 164.0,\n 158.0,\n 192.0,\n 188.0,\n 121.0,\n 98.0,\n 81.0,\n 118.0,\n 148.0,\n 110.0,\n 145.0,\n 137.0,\n 101.0,\n 78.0,\n 106.0,\n 85.0,\n 107.0,\n 104.0,\n 113.0,\n 150.0,\n 129.0,\n 115.0,\n 93.0,\n 142.0,\n 161.0,\n 153.0,\n 125.0,\n 128.0,\n 122.0,\n 103.0,\n 168.0,\n 108.0,\n 194.0,\n 231.0,\n 119.0,\n 154.0,\n 74.0,\n 186.0,\n 83.0,\n 102.0,\n 89.0,\n 87.0,\n 77.0,\n 91.0,\n 134.0,\n 65.0,\n 197.0,\n 90.0,\n 94.0,\n 256.0,\n 95.0,\n 25.0]"
     },
     "metadata": {},
     "output_type": "execute_result",
     "execution_count": 265
    }
   ],
   "source": [
    "# List all unique values in the symboling column to find out-of-bound values\n",
    "# TODO Replace NaN Value\n",
    "list_unique_values_in_a_column(data, 'normalized-losses')"
   ],
   "metadata": {
    "collapsed": false,
    "pycharm": {
     "name": "#%%\n",
     "is_executing": false
    }
   }
  },
  {
   "cell_type": "code",
   "execution_count": 228,
   "metadata": {
    "pycharm": {
     "is_executing": false
    }
   },
   "outputs": [
    {
     "data": {
      "text/plain": "['alfa-romero',\n 'audi',\n 'bmw',\n 'chevrolet',\n 'dodge',\n 'honda',\n 'isuzu',\n 'jaguar',\n 'mazda',\n 'mercedes-benz',\n 'mercury',\n 'mitsubishi',\n 'nissan',\n 'peugot',\n 'plymouth',\n 'porsche',\n 'renault',\n 'saab',\n 'subaru',\n 'toyota',\n 'volkswagen',\n 'volvo',\n 'vol00112ov']"
     },
     "metadata": {},
     "output_type": "execute_result",
     "execution_count": 228
    }
   ],
   "source": [
    "# List all unique values in the make column to find typos\n",
    "list_unique_values_in_a_column(data, 'make')\n",
    "# typo = vol00112ov"
   ]
  },
  {
   "cell_type": "code",
   "execution_count": 229,
   "outputs": [
    {
     "data": {
      "text/plain": "['alfa-romero',\n 'audi',\n 'bmw',\n 'chevrolet',\n 'dodge',\n 'honda',\n 'isuzu',\n 'jaguar',\n 'mazda',\n 'mercedes-benz',\n 'mercury',\n 'mitsubishi',\n 'nissan',\n 'peugot',\n 'plymouth',\n 'porsche',\n 'renault',\n 'saab',\n 'subaru',\n 'toyota',\n 'volkswagen',\n 'volvo']"
     },
     "metadata": {},
     "output_type": "execute_result",
     "execution_count": 229
    }
   ],
   "source": [
    "# Replace typo in make column\n",
    "fix_typo(data, 'make', 'vol00112ov', 'volvo')\n",
    "list_unique_values_in_a_column(data, 'make')"
   ],
   "metadata": {
    "collapsed": false,
    "pycharm": {
     "name": "#%%\n",
     "is_executing": false
    }
   }
  },
  {
   "cell_type": "code",
   "execution_count": 230,
   "outputs": [
    {
     "data": {
      "text/plain": "['gas', 'diesel']"
     },
     "metadata": {},
     "output_type": "execute_result",
     "execution_count": 230
    }
   ],
   "source": [
    "# List all unique values in the fuel type column to find typos\n",
    "list_unique_values_in_a_column(data, 'fuel-type')\n",
    "# No typo here"
   ],
   "metadata": {
    "collapsed": false,
    "pycharm": {
     "name": "#%%\n",
     "is_executing": false
    }
   }
  },
  {
   "cell_type": "code",
   "execution_count": 231,
   "outputs": [
    {
     "data": {
      "text/plain": "['std', 'turbo', 'turrrrbo']"
     },
     "metadata": {},
     "output_type": "execute_result",
     "execution_count": 231
    }
   ],
   "source": [
    "# List all unique values in the aspiration column to find typos\n",
    "list_unique_values_in_a_column(data, 'aspiration')\n",
    "# typo found: turrrrbo"
   ],
   "metadata": {
    "collapsed": false,
    "pycharm": {
     "name": "#%%\n",
     "is_executing": false
    }
   }
  },
  {
   "cell_type": "code",
   "execution_count": 232,
   "outputs": [
    {
     "data": {
      "text/plain": "['std', 'turbo']"
     },
     "metadata": {},
     "output_type": "execute_result",
     "execution_count": 232
    }
   ],
   "source": [
    "# Replace typo\n",
    "fix_typo(data, 'aspiration', 'turrrrbo', 'turbo')\n",
    "list_unique_values_in_a_column(data, 'aspiration')"
   ],
   "metadata": {
    "collapsed": false,
    "pycharm": {
     "name": "#%%\n",
     "is_executing": false
    }
   }
  },
  {
   "cell_type": "code",
   "execution_count": 233,
   "outputs": [
    {
     "data": {
      "text/plain": "['two', 'four', nan, 'fourr']"
     },
     "metadata": {},
     "output_type": "execute_result",
     "execution_count": 233
    }
   ],
   "source": [
    "# List all unique values in the aspiration column to find typos and NaN\n",
    "list_unique_values_in_a_column(data, 'num-of-doors')\n",
    "# typo found: fourr\n",
    "# NaN found"
   ],
   "metadata": {
    "collapsed": false,
    "pycharm": {
     "name": "#%%\n",
     "is_executing": false
    }
   }
  },
  {
   "cell_type": "code",
   "execution_count": 234,
   "outputs": [
    {
     "data": {
      "text/plain": "['two', 'four', nan]"
     },
     "metadata": {},
     "output_type": "execute_result",
     "execution_count": 234
    }
   ],
   "source": [
    "# Replace typo\n",
    "fix_typo(data, 'num-of-doors', 'fourr', 'four')\n",
    "list_unique_values_in_a_column(data, 'num-of-doors')"
   ],
   "metadata": {
    "collapsed": false,
    "pycharm": {
     "name": "#%%\n",
     "is_executing": false
    }
   }
  },
  {
   "cell_type": "code",
   "execution_count": 235,
   "outputs": [
    {
     "data": {
      "text/plain": "    symboling  normalized-losses   make fuel-type aspiration num-of-doors  \\\n27          1              148.0  dodge       gas      turbo          NaN   \n63          0                NaN  mazda    diesel        std          NaN   \n\n   body-style drive-wheels engine-location  wheel-base  ...  engine-size  \\\n27      sedan          fwd           front        93.7  ...           98   \n63      sedan          fwd           front        98.8  ...          122   \n\n    fuel-system  bore  stroke compression-ratio horsepower  peak-rpm city-mpg  \\\n27         mpfi  3.03    3.39               7.6      102.0    5500.0       24   \n63          idi  3.39    3.39              22.7       64.0    4650.0       36   \n\n    highway-mpg    price  \n27           30   8558.0  \n63           42  10795.0  \n\n[2 rows x 26 columns]",
      "text/html": "<div>\n<style scoped>\n    .dataframe tbody tr th:only-of-type {\n        vertical-align: middle;\n    }\n\n    .dataframe tbody tr th {\n        vertical-align: top;\n    }\n\n    .dataframe thead th {\n        text-align: right;\n    }\n</style>\n<table border=\"1\" class=\"dataframe\">\n  <thead>\n    <tr style=\"text-align: right;\">\n      <th></th>\n      <th>symboling</th>\n      <th>normalized-losses</th>\n      <th>make</th>\n      <th>fuel-type</th>\n      <th>aspiration</th>\n      <th>num-of-doors</th>\n      <th>body-style</th>\n      <th>drive-wheels</th>\n      <th>engine-location</th>\n      <th>wheel-base</th>\n      <th>...</th>\n      <th>engine-size</th>\n      <th>fuel-system</th>\n      <th>bore</th>\n      <th>stroke</th>\n      <th>compression-ratio</th>\n      <th>horsepower</th>\n      <th>peak-rpm</th>\n      <th>city-mpg</th>\n      <th>highway-mpg</th>\n      <th>price</th>\n    </tr>\n  </thead>\n  <tbody>\n    <tr>\n      <th>27</th>\n      <td>1</td>\n      <td>148.0</td>\n      <td>dodge</td>\n      <td>gas</td>\n      <td>turbo</td>\n      <td>NaN</td>\n      <td>sedan</td>\n      <td>fwd</td>\n      <td>front</td>\n      <td>93.7</td>\n      <td>...</td>\n      <td>98</td>\n      <td>mpfi</td>\n      <td>3.03</td>\n      <td>3.39</td>\n      <td>7.6</td>\n      <td>102.0</td>\n      <td>5500.0</td>\n      <td>24</td>\n      <td>30</td>\n      <td>8558.0</td>\n    </tr>\n    <tr>\n      <th>63</th>\n      <td>0</td>\n      <td>NaN</td>\n      <td>mazda</td>\n      <td>diesel</td>\n      <td>std</td>\n      <td>NaN</td>\n      <td>sedan</td>\n      <td>fwd</td>\n      <td>front</td>\n      <td>98.8</td>\n      <td>...</td>\n      <td>122</td>\n      <td>idi</td>\n      <td>3.39</td>\n      <td>3.39</td>\n      <td>22.7</td>\n      <td>64.0</td>\n      <td>4650.0</td>\n      <td>36</td>\n      <td>42</td>\n      <td>10795.0</td>\n    </tr>\n  </tbody>\n</table>\n<p>2 rows × 26 columns</p>\n</div>"
     },
     "metadata": {},
     "output_type": "execute_result",
     "execution_count": 235
    }
   ],
   "source": [
    "#View all NaN value in this column\n",
    "list_nan_values_in_column(data, 'num-of-doors')"
   ],
   "metadata": {
    "collapsed": false,
    "pycharm": {
     "name": "#%%\n",
     "is_executing": false
    }
   }
  },
  {
   "cell_type": "code",
   "execution_count": 236,
   "outputs": [
    {
     "data": {
      "text/plain": "['two', 'four']"
     },
     "metadata": {},
     "output_type": "execute_result",
     "execution_count": 236
    }
   ],
   "source": [
    "data['num-of-doors'] = data['num-of-doors'].fillna('four')\n",
    "# if body-style == sedan or wagon, most likely a 4-door car\n",
    "list_unique_values_in_a_column(data, 'num-of-doors')"
   ],
   "metadata": {
    "collapsed": false,
    "pycharm": {
     "name": "#%%\n",
     "is_executing": false
    }
   }
  },
  {
   "cell_type": "code",
   "execution_count": 237,
   "outputs": [
    {
     "data": {
      "text/plain": "['convertible', 'hatchback', 'sedan', 'wagon', 'hardtop']"
     },
     "metadata": {},
     "output_type": "execute_result",
     "execution_count": 237
    }
   ],
   "source": [
    "list_unique_values_in_a_column(data, 'body-style')\n",
    "# No NaN values, or typos"
   ],
   "metadata": {
    "collapsed": false,
    "pycharm": {
     "name": "#%%\n",
     "is_executing": false
    }
   }
  },
  {
   "cell_type": "code",
   "execution_count": 238,
   "outputs": [
    {
     "data": {
      "text/plain": "['rwd', 'fwd', '4wd']"
     },
     "metadata": {},
     "output_type": "execute_result",
     "execution_count": 238
    }
   ],
   "source": [
    "list_unique_values_in_a_column(data, 'drive-wheels')\n",
    "# No NaN values, or typos"
   ],
   "metadata": {
    "collapsed": false,
    "pycharm": {
     "name": "#%%\n",
     "is_executing": false
    }
   }
  },
  {
   "cell_type": "code",
   "execution_count": 239,
   "outputs": [
    {
     "data": {
      "text/plain": "['front', 'rear']"
     },
     "metadata": {},
     "output_type": "execute_result",
     "execution_count": 239
    }
   ],
   "source": [
    "list_unique_values_in_a_column(data, 'engine-location')\n",
    "# No NaN values, or typos"
   ],
   "metadata": {
    "collapsed": false,
    "pycharm": {
     "name": "#%%\n",
     "is_executing": false
    }
   }
  },
  {
   "cell_type": "code",
   "execution_count": 240,
   "outputs": [
    {
     "data": {
      "text/plain": "[88.6,\n 94.5,\n 99.8,\n 99.4,\n 105.8,\n 99.5,\n 101.2,\n 103.5,\n 110.0,\n 88.4,\n 93.7,\n 103.3,\n 95.9,\n 86.6,\n 96.5,\n 94.3,\n 96.0,\n 113.0,\n 102.0,\n 93.1,\n 95.3,\n 98.8,\n 104.9,\n 106.7,\n 115.6,\n 96.6,\n 120.9,\n 112.0,\n 102.7,\n 93.0,\n 96.3,\n 95.1,\n 97.2,\n 100.4,\n 91.3,\n 99.2,\n 107.9,\n 114.2,\n 108.0,\n 89.5,\n 98.4,\n 96.1,\n 99.1,\n 93.3,\n 97.0,\n 96.9,\n 95.7,\n 102.4,\n 102.9,\n 104.5,\n 97.3,\n 104.3,\n 109.1]"
     },
     "metadata": {},
     "output_type": "execute_result",
     "execution_count": 240
    }
   ],
   "source": [
    "list_unique_values_in_a_column(data, 'wheel-base')\n",
    "# No NaN or out-of-bound values"
   ],
   "metadata": {
    "collapsed": false,
    "pycharm": {
     "name": "#%%\n",
     "is_executing": false
    }
   }
  },
  {
   "cell_type": "code",
   "execution_count": 241,
   "outputs": [
    {
     "data": {
      "text/plain": "[168.8,\n 171.2,\n 176.6,\n 177.3,\n 192.7,\n 178.2,\n 176.8,\n 189.0,\n 193.8,\n 197.0,\n 141.1,\n 155.9,\n 158.8,\n 157.3,\n 174.6,\n 173.2,\n 144.6,\n 150.0,\n 163.4,\n 157.1,\n 167.5,\n 175.4,\n 169.1,\n 170.7,\n 172.6,\n 199.6,\n 191.7,\n 159.1,\n 166.8,\n 169.0,\n 177.8,\n 175.0,\n 190.9,\n 187.5,\n 202.6,\n 180.3,\n 208.1,\n 199.2,\n 178.4,\n 173.0,\n 172.4,\n 165.3,\n 170.2,\n 165.6,\n 162.4,\n 173.4,\n 181.7,\n 184.6,\n 178.5,\n 186.7,\n 198.9,\n 167.3,\n 168.9,\n 175.7,\n 181.5,\n 186.6,\n 156.9,\n 157.9,\n 172.0,\n 173.5,\n 173.6,\n 158.7,\n 169.7,\n 166.3,\n 168.7,\n 176.2,\n 175.6,\n 183.5,\n 187.8,\n 171.7,\n 159.3,\n 165.7,\n 180.2,\n 183.1,\n 188.8]"
     },
     "metadata": {},
     "output_type": "execute_result",
     "execution_count": 241
    }
   ],
   "source": [
    "list_unique_values_in_a_column(data, 'length')\n",
    "# No NaN or out-of-bound values"
   ],
   "metadata": {
    "collapsed": false,
    "pycharm": {
     "name": "#%%\n",
     "is_executing": false
    }
   }
  },
  {
   "cell_type": "code",
   "execution_count": 242,
   "outputs": [
    {
     "data": {
      "text/plain": "[64.1,\n 65.5,\n 66.2,\n 66.4,\n 66.3,\n 71.4,\n 67.9,\n 64.8,\n 66.9,\n 70.9,\n 60.3,\n 63.6,\n 63.8,\n 64.6,\n 63.9,\n 64.0,\n 65.2,\n 62.5,\n 66.0,\n 61.8,\n 69.6,\n 70.6,\n 64.2,\n 65.7,\n 66.5,\n 66.1,\n 70.3,\n 71.7,\n 70.5,\n 72.0,\n 68.0,\n 64.4,\n 65.4,\n 68.4,\n 68.3,\n 65.0,\n 72.3,\n 66.6,\n 63.4,\n 65.6,\n 67.7,\n 67.2,\n 68.9,\n 68.8]"
     },
     "metadata": {},
     "output_type": "execute_result",
     "execution_count": 242
    }
   ],
   "source": [
    "list_unique_values_in_a_column(data, 'width')\n",
    "# No NaN or out-of-bound values"
   ],
   "metadata": {
    "collapsed": false,
    "pycharm": {
     "name": "#%%\n",
     "is_executing": false
    }
   }
  },
  {
   "cell_type": "code",
   "execution_count": 243,
   "outputs": [
    {
     "data": {
      "text/plain": "[48.8,\n 52.4,\n 54.3,\n 53.1,\n 55.7,\n 55.9,\n 52.0,\n 53.7,\n 56.3,\n 53.2,\n 50.8,\n 50.6,\n 59.8,\n 50.2,\n 52.6,\n 54.5,\n 58.3,\n 53.3,\n 54.1,\n 51.0,\n 53.5,\n 51.4,\n 52.8,\n 47.8,\n 49.6,\n 55.5,\n 54.4,\n 56.5,\n 58.7,\n 54.9,\n 56.7,\n 55.4,\n 54.8,\n 49.4,\n 51.6,\n 54.7,\n 55.1,\n 56.1,\n 49.7,\n 56.0,\n 50.5,\n 55.2,\n 52.5,\n 53.0,\n 59.1,\n 53.9,\n 55.6,\n 56.2,\n 57.5]"
     },
     "metadata": {},
     "output_type": "execute_result",
     "execution_count": 243
    }
   ],
   "source": [
    "list_unique_values_in_a_column(data, 'height')\n",
    "# No NaN or out-of-bound values"
   ],
   "metadata": {
    "collapsed": false,
    "pycharm": {
     "name": "#%%\n",
     "is_executing": false
    }
   }
  },
  {
   "cell_type": "code",
   "execution_count": 244,
   "outputs": [
    {
     "data": {
      "text/plain": "[2548,\n 2823,\n 2337,\n 2824,\n 2507,\n 2844,\n 2954,\n 3086,\n 3053,\n 2395,\n 2710,\n 2765,\n 3055,\n 3230,\n 3380,\n 3505,\n 1488,\n 1874,\n 1909,\n 1876,\n 2128,\n 1967,\n 1989,\n 2191,\n 2535,\n 2811,\n 1713,\n 1819,\n 1837,\n 1940,\n 1956,\n 2010,\n 2024,\n 2236,\n 2289,\n 2304,\n 2372,\n 2465,\n 2293,\n 2734,\n 4066,\n 3950,\n 1890,\n 1900,\n 1905,\n 1945,\n 1950,\n 2380,\n 2385,\n 2500,\n 2410,\n 2443,\n 2425,\n 2670,\n 2700,\n 3515,\n 3750,\n 3495,\n 3770,\n 3740,\n 3685,\n 3900,\n 3715,\n 2910,\n 1918,\n 1944,\n 2004,\n 2145,\n 2370,\n 2328,\n 2833,\n 2921,\n 2926,\n 2365,\n 2405,\n 2403,\n 1889,\n 2017,\n 1938,\n 1951,\n 2028,\n 1971,\n 2037,\n 2008,\n 2324,\n 2302,\n 3095,\n 3296,\n 3060,\n 3071,\n 3139,\n 3020,\n 3197,\n 3430,\n 3075,\n 3252,\n 3285,\n 3485,\n 3130,\n 2818,\n 2778,\n 2756,\n 2800,\n 3366,\n 2579,\n 2460,\n 2658,\n 2695,\n 2707,\n 2758,\n 2808,\n 2847,\n 2050,\n 2120,\n 2240,\n 2190,\n 2340,\n 2510,\n 2290,\n 2455,\n 2420,\n 2650,\n 1985,\n 2040,\n 2015,\n 2280,\n 3110,\n 2081,\n 2109,\n 2275,\n 2094,\n 2122,\n 2140,\n 2169,\n 2204,\n 2265,\n 2300,\n 2540,\n 2536,\n 2551,\n 2679,\n 2714,\n 2975,\n 2326,\n 2480,\n 2414,\n 2458,\n 2976,\n 3016,\n 3131,\n 3151,\n 2261,\n 2209,\n 2264,\n 2212,\n 2319,\n 2254,\n 2221,\n 2661,\n 2563,\n 2912,\n 3034,\n 2935,\n 3042,\n 3045,\n 3157,\n 2952,\n 3049,\n 3012,\n 3217,\n 3062]"
     },
     "metadata": {},
     "output_type": "execute_result",
     "execution_count": 244
    }
   ],
   "source": [
    "list_unique_values_in_a_column(data, 'curb-weight')\n",
    "# No NaN or out-of-bound values"
   ],
   "metadata": {
    "collapsed": false,
    "pycharm": {
     "name": "#%%\n",
     "is_executing": false
    }
   }
  },
  {
   "cell_type": "code",
   "execution_count": 245,
   "outputs": [
    {
     "data": {
      "text/plain": "[2548,\n 2823,\n 2337,\n 2824,\n 2507,\n 2844,\n 2954,\n 3086,\n 3053,\n 2395,\n 2710,\n 2765,\n 3055,\n 3230,\n 3380,\n 3505,\n 1488,\n 1874,\n 1909,\n 1876,\n 2128,\n 1967,\n 1989,\n 2191,\n 2535,\n 2811,\n 1713,\n 1819,\n 1837,\n 1940,\n 1956,\n 2010,\n 2024,\n 2236,\n 2289,\n 2304,\n 2372,\n 2465,\n 2293,\n 2734,\n 4066,\n 3950,\n 1890,\n 1900,\n 1905,\n 1945,\n 1950,\n 2380,\n 2385,\n 2500,\n 2410,\n 2443,\n 2425,\n 2670,\n 2700,\n 3515,\n 3750,\n 3495,\n 3770,\n 3740,\n 3685,\n 3900,\n 3715,\n 2910,\n 1918,\n 1944,\n 2004,\n 2145,\n 2370,\n 2328,\n 2833,\n 2921,\n 2926,\n 2365,\n 2405,\n 2403,\n 1889,\n 2017,\n 1938,\n 1951,\n 2028,\n 1971,\n 2037,\n 2008,\n 2324,\n 2302,\n 3095,\n 3296,\n 3060,\n 3071,\n 3139,\n 3020,\n 3197,\n 3430,\n 3075,\n 3252,\n 3285,\n 3485,\n 3130,\n 2818,\n 2778,\n 2756,\n 2800,\n 3366,\n 2579,\n 2460,\n 2658,\n 2695,\n 2707,\n 2758,\n 2808,\n 2847,\n 2050,\n 2120,\n 2240,\n 2190,\n 2340,\n 2510,\n 2290,\n 2455,\n 2420,\n 2650,\n 1985,\n 2040,\n 2015,\n 2280,\n 3110,\n 2081,\n 2109,\n 2275,\n 2094,\n 2122,\n 2140,\n 2169,\n 2204,\n 2265,\n 2300,\n 2540,\n 2536,\n 2551,\n 2679,\n 2714,\n 2975,\n 2326,\n 2480,\n 2414,\n 2458,\n 2976,\n 3016,\n 3131,\n 3151,\n 2261,\n 2209,\n 2264,\n 2212,\n 2319,\n 2254,\n 2221,\n 2661,\n 2563,\n 2912,\n 3034,\n 2935,\n 3042,\n 3045,\n 3157,\n 2952,\n 3049,\n 3012,\n 3217,\n 3062]"
     },
     "metadata": {},
     "output_type": "execute_result",
     "execution_count": 245
    }
   ],
   "source": [
    "list_unique_values_in_a_column(data, 'curb-weight')\n",
    "# No NaN or out-of-bound values"
   ],
   "metadata": {
    "collapsed": false,
    "pycharm": {
     "name": "#%%\n",
     "is_executing": false
    }
   }
  },
  {
   "cell_type": "code",
   "execution_count": 246,
   "outputs": [
    {
     "data": {
      "text/plain": "['dohc', 'ohcv', 'ohc', 'l', 'rotor', 'ohcf', 'dohcv']"
     },
     "metadata": {},
     "output_type": "execute_result",
     "execution_count": 246
    }
   ],
   "source": [
    "list_unique_values_in_a_column(data, 'engine-type')\n",
    "#TODO Check Engine Type\n",
    "# Typos found. Proper engine types: ohc, l, rotor"
   ],
   "metadata": {
    "collapsed": false,
    "pycharm": {
     "name": "#%%\n",
     "is_executing": false
    }
   }
  },
  {
   "cell_type": "code",
   "execution_count": 247,
   "outputs": [
    {
     "data": {
      "text/plain": "['ohc', 'l', 'rotor']"
     },
     "metadata": {},
     "output_type": "execute_result",
     "execution_count": 247
    }
   ],
   "source": [
    "# Replace all typos with ohc\n",
    "data.loc[data['engine-type'].str.contains('ohc'), 'engine-type'] = 'ohc'\n",
    "list_unique_values_in_a_column(data, 'engine-type')"
   ],
   "metadata": {
    "collapsed": false,
    "pycharm": {
     "name": "#%%\n",
     "is_executing": false
    }
   }
  },
  {
   "cell_type": "code",
   "execution_count": 248,
   "outputs": [
    {
     "data": {
      "text/plain": "['four', 'six', 'five', 'three', 'twelve', 'two', 'eight']"
     },
     "metadata": {},
     "output_type": "execute_result",
     "execution_count": 248
    }
   ],
   "source": [
    "list_unique_values_in_a_column(data, 'num-of-cylinders')\n",
    "# No NaN or out-of-bound values"
   ],
   "metadata": {
    "collapsed": false,
    "pycharm": {
     "name": "#%%\n",
     "is_executing": false
    }
   }
  },
  {
   "cell_type": "code",
   "execution_count": 249,
   "outputs": [
    {
     "data": {
      "text/plain": "[130,\n 152,\n 109,\n 136,\n 131,\n 108,\n 164,\n 209,\n 61,\n 90,\n 98,\n 122,\n 156,\n 92,\n 79,\n 110,\n 111,\n 119,\n 258,\n 326,\n 91,\n 70,\n 80,\n 140,\n 134,\n 183,\n 234,\n 308,\n 304,\n 97,\n 103,\n 120,\n 181,\n 151,\n 194,\n 203,\n 132,\n 121,\n 146,\n 171,\n 161,\n 141,\n 173,\n 145]"
     },
     "metadata": {},
     "output_type": "execute_result",
     "execution_count": 249
    }
   ],
   "source": [
    "list_unique_values_in_a_column(data, 'engine-size')\n",
    "# No NaN or out-of-bound values"
   ],
   "metadata": {
    "collapsed": false,
    "pycharm": {
     "name": "#%%\n",
     "is_executing": false
    }
   }
  },
  {
   "cell_type": "code",
   "execution_count": 250,
   "outputs": [
    {
     "data": {
      "text/plain": "['mpfi', '2bbl', 'mfi', '1bbl', 'spfi', '4bbl', 'idi', 'spdi']"
     },
     "metadata": {},
     "output_type": "execute_result",
     "execution_count": 250
    }
   ],
   "source": [
    "list_unique_values_in_a_column(data, 'fuel-system')\n",
    "# No NaN or out-of-bound values"
   ],
   "metadata": {
    "collapsed": false,
    "pycharm": {
     "name": "#%%\n",
     "is_executing": false
    }
   }
  },
  {
   "cell_type": "code",
   "execution_count": 251,
   "outputs": [
    {
     "data": {
      "text/plain": "[3.47,\n 2.68,\n 3.19,\n 3.13,\n 3.5,\n 3.31,\n 3.62,\n 2.91,\n 3.03,\n 2.97,\n 3.34,\n 3.6,\n 2.92,\n 3.15,\n 3.43,\n 3.63,\n 3.54,\n 3.08,\n nan,\n 3.39,\n 3.76,\n 3.58,\n 3.46,\n 3.8,\n 3.78,\n 3.17,\n 3.35,\n 3.59,\n 2.99,\n 3.33,\n 3.7,\n 3.61,\n 3.94,\n 3.74,\n 2.54,\n 3.05,\n 3.27,\n 3.24,\n 3.01]"
     },
     "metadata": {},
     "output_type": "execute_result",
     "execution_count": 251
    }
   ],
   "source": [
    "list_unique_values_in_a_column(data, 'bore')\n",
    "# NaN value found"
   ],
   "metadata": {
    "collapsed": false,
    "pycharm": {
     "name": "#%%\n",
     "is_executing": false
    }
   }
  },
  {
   "cell_type": "code",
   "execution_count": 252,
   "outputs": [
    {
     "data": {
      "text/plain": "[3.47,\n 2.68,\n 3.19,\n 3.13,\n 3.5,\n 3.31,\n 3.62,\n 2.91,\n 3.03,\n 2.97,\n 3.34,\n 3.6,\n 2.92,\n 3.15,\n 3.43,\n 3.63,\n 3.54,\n 3.08,\n 3.35,\n 3.39,\n 3.76,\n 3.58,\n 3.46,\n 3.8,\n 3.78,\n 3.17,\n 3.59,\n 2.99,\n 3.33,\n 3.7,\n 3.61,\n 3.94,\n 3.74,\n 2.54,\n 3.05,\n 3.27,\n 3.24,\n 3.01]"
     },
     "metadata": {},
     "output_type": "execute_result",
     "execution_count": 252
    }
   ],
   "source": [
    "# Replacing NaN values with median value since the values in this column are relative close to each other.\n",
    "data['bore'] = data['bore'].fillna(data['bore'].median())\n",
    "list_unique_values_in_a_column(data, 'bore')"
   ],
   "metadata": {
    "collapsed": false,
    "pycharm": {
     "name": "#%%\n",
     "is_executing": false
    }
   }
  },
  {
   "cell_type": "code",
   "execution_count": 253,
   "outputs": [
    {
     "data": {
      "text/plain": "[2.68,\n 3.47,\n 3.4,\n 2.8,\n 3.19,\n 3.39,\n 3.03,\n 3.11,\n 3.23,\n 3.46,\n 3.9,\n 3.41,\n 3.07,\n 3.58,\n 4.17,\n 2.76,\n 3.15,\n nan,\n 3.16,\n 3.64,\n 3.1,\n 3.35,\n 3.12,\n 3.86,\n 3.29,\n 3.27,\n 3.52,\n 2.19,\n 3.21,\n 2.9,\n 2.07,\n 2.36,\n 2.64,\n 3.08,\n 3.5,\n 3.54,\n 2.87]"
     },
     "metadata": {},
     "output_type": "execute_result",
     "execution_count": 253
    }
   ],
   "source": [
    "list_unique_values_in_a_column(data, 'stroke')\n",
    "# NaN value found"
   ],
   "metadata": {
    "collapsed": false,
    "pycharm": {
     "name": "#%%\n",
     "is_executing": false
    }
   }
  },
  {
   "cell_type": "code",
   "execution_count": 254,
   "outputs": [
    {
     "data": {
      "text/plain": "[2.68,\n 3.47,\n 3.4,\n 2.8,\n 3.19,\n 3.39,\n 3.03,\n 3.11,\n 3.23,\n 3.46,\n 3.9,\n 3.41,\n 3.07,\n 3.58,\n 4.17,\n 2.76,\n 3.15,\n 3.27,\n 3.16,\n 3.64,\n 3.1,\n 3.35,\n 3.12,\n 3.86,\n 3.29,\n 3.52,\n 2.19,\n 3.21,\n 2.9,\n 2.07,\n 2.36,\n 2.64,\n 3.08,\n 3.5,\n 3.54,\n 2.87]"
     },
     "metadata": {},
     "output_type": "execute_result",
     "execution_count": 254
    }
   ],
   "source": [
    "# Replacing NaN values with median value since the values in this column are relative close to each other.\n",
    "data['stroke'] = data['stroke'].fillna(data['stroke'].median())\n",
    "list_unique_values_in_a_column(data, 'stroke')"
   ],
   "metadata": {
    "collapsed": false,
    "pycharm": {
     "name": "#%%\n",
     "is_executing": false
    }
   }
  },
  {
   "cell_type": "code",
   "execution_count": 255,
   "outputs": [
    {
     "data": {
      "text/plain": "[9.0,\n 10.0,\n 8.0,\n 8.5,\n 8.3,\n 7.0,\n 8.8,\n 9.5,\n 9.6,\n 9.41,\n 9.4,\n 7.6,\n 9.2,\n 10.1,\n 9.1,\n 8.1,\n 11.5,\n 8.6,\n 22.7,\n 22.0,\n 21.5,\n 7.5,\n 21.9,\n 7.8,\n 8.4,\n 21.0,\n 8.7,\n 9.31,\n 9.3,\n 7.7,\n 22.5,\n 23.0]"
     },
     "metadata": {},
     "output_type": "execute_result",
     "execution_count": 255
    }
   ],
   "source": [
    "list_unique_values_in_a_column(data, 'compression-ratio')\n",
    "# No NaN or out-of-bound values"
   ],
   "metadata": {
    "collapsed": false,
    "pycharm": {
     "name": "#%%\n",
     "is_executing": false
    }
   }
  },
  {
   "cell_type": "code",
   "execution_count": 256,
   "outputs": [
    {
     "data": {
      "text/plain": "[111.0,\n 154.0,\n 102.0,\n 115.0,\n 110.0,\n 140.0,\n 160.0,\n 101.0,\n 121.0,\n 182.0,\n 48.0,\n 70.0,\n 68.0,\n 88.0,\n 145.0,\n 58.0,\n 76.0,\n 60.0,\n 86.0,\n 100.0,\n 78.0,\n 90.0,\n 176.0,\n 262.0,\n 135.0,\n 84.0,\n 64.0,\n 120.0,\n 72.0,\n 123.0,\n 155.0,\n 184.0,\n 175.0,\n 116.0,\n 69.0,\n 55.0,\n 97.0,\n 152.0,\n 200.0,\n 95.0,\n 142.0,\n 143.0,\n 207.0,\n 288.0,\n nan,\n 73.0,\n 82.0,\n 94.0,\n 62.0,\n 56.0,\n 112.0,\n 92.0,\n 161.0,\n 156.0,\n 52.0,\n 85.0,\n 114.0,\n 162.0,\n 134.0,\n 106.0]"
     },
     "metadata": {},
     "output_type": "execute_result",
     "execution_count": 256
    }
   ],
   "source": [
    "list_unique_values_in_a_column(data, 'horsepower')\n",
    "# NaN Value Found"
   ],
   "metadata": {
    "collapsed": false,
    "pycharm": {
     "name": "#%%\n",
     "is_executing": false
    }
   }
  },
  {
   "cell_type": "code",
   "execution_count": 257,
   "outputs": [
    {
     "data": {
      "text/plain": "     symboling  normalized-losses     make fuel-type aspiration num-of-doors  \\\n130          0                NaN  renault       gas        std         four   \n131          2                NaN  renault       gas        std          two   \n\n    body-style drive-wheels engine-location  wheel-base  ...  engine-size  \\\n130      wagon          fwd           front        96.1  ...          132   \n131  hatchback          fwd           front        96.1  ...          132   \n\n     fuel-system  bore  stroke compression-ratio horsepower  peak-rpm  \\\n130         mpfi  3.46     3.9               8.7        NaN       NaN   \n131         mpfi  3.46     3.9               8.7        NaN       NaN   \n\n    city-mpg  highway-mpg   price  \n130       23           31  9295.0  \n131       23           31  9895.0  \n\n[2 rows x 26 columns]",
      "text/html": "<div>\n<style scoped>\n    .dataframe tbody tr th:only-of-type {\n        vertical-align: middle;\n    }\n\n    .dataframe tbody tr th {\n        vertical-align: top;\n    }\n\n    .dataframe thead th {\n        text-align: right;\n    }\n</style>\n<table border=\"1\" class=\"dataframe\">\n  <thead>\n    <tr style=\"text-align: right;\">\n      <th></th>\n      <th>symboling</th>\n      <th>normalized-losses</th>\n      <th>make</th>\n      <th>fuel-type</th>\n      <th>aspiration</th>\n      <th>num-of-doors</th>\n      <th>body-style</th>\n      <th>drive-wheels</th>\n      <th>engine-location</th>\n      <th>wheel-base</th>\n      <th>...</th>\n      <th>engine-size</th>\n      <th>fuel-system</th>\n      <th>bore</th>\n      <th>stroke</th>\n      <th>compression-ratio</th>\n      <th>horsepower</th>\n      <th>peak-rpm</th>\n      <th>city-mpg</th>\n      <th>highway-mpg</th>\n      <th>price</th>\n    </tr>\n  </thead>\n  <tbody>\n    <tr>\n      <th>130</th>\n      <td>0</td>\n      <td>NaN</td>\n      <td>renault</td>\n      <td>gas</td>\n      <td>std</td>\n      <td>four</td>\n      <td>wagon</td>\n      <td>fwd</td>\n      <td>front</td>\n      <td>96.1</td>\n      <td>...</td>\n      <td>132</td>\n      <td>mpfi</td>\n      <td>3.46</td>\n      <td>3.9</td>\n      <td>8.7</td>\n      <td>NaN</td>\n      <td>NaN</td>\n      <td>23</td>\n      <td>31</td>\n      <td>9295.0</td>\n    </tr>\n    <tr>\n      <th>131</th>\n      <td>2</td>\n      <td>NaN</td>\n      <td>renault</td>\n      <td>gas</td>\n      <td>std</td>\n      <td>two</td>\n      <td>hatchback</td>\n      <td>fwd</td>\n      <td>front</td>\n      <td>96.1</td>\n      <td>...</td>\n      <td>132</td>\n      <td>mpfi</td>\n      <td>3.46</td>\n      <td>3.9</td>\n      <td>8.7</td>\n      <td>NaN</td>\n      <td>NaN</td>\n      <td>23</td>\n      <td>31</td>\n      <td>9895.0</td>\n    </tr>\n  </tbody>\n</table>\n<p>2 rows × 26 columns</p>\n</div>"
     },
     "metadata": {},
     "output_type": "execute_result",
     "execution_count": 257
    }
   ],
   "source": [
    "# TODO Replace NaN\n",
    "list_nan_values_in_column(data, 'horsepower')\n",
    "# NaN Value Found"
   ],
   "metadata": {
    "collapsed": false,
    "pycharm": {
     "name": "#%%\n",
     "is_executing": false
    }
   }
  },
  {
   "cell_type": "code",
   "execution_count": 261,
   "outputs": [
    {
     "data": {
      "text/plain": "[5000.0,\n 5500.0,\n 5800.0,\n 4250.0,\n 5400.0,\n 5100.0,\n 4800.0,\n 6000.0,\n 4750.0,\n 4650.0,\n 4200.0,\n 4350.0,\n 4500.0,\n 5200.0,\n 4150.0,\n 5600.0,\n 5900.0,\n 5750.0,\n nan,\n 5250.0,\n 4900.0,\n 4400.0,\n 6600.0,\n 5300.0]"
     },
     "metadata": {},
     "output_type": "execute_result",
     "execution_count": 261
    }
   ],
   "source": [
    "# TODO Replace NaN\n",
    "list_unique_values_in_a_column(data, 'peak-rpm')\n",
    "# NaN Value Found"
   ],
   "metadata": {
    "collapsed": false,
    "pycharm": {
     "name": "#%%\n",
     "is_executing": false
    }
   }
  },
  {
   "cell_type": "code",
   "execution_count": null,
   "outputs": [],
   "source": [
    "list_nan_values_in_column(data, 'peak-rpm')\n",
    "# NaN Value Found"
   ],
   "metadata": {
    "collapsed": false,
    "pycharm": {
     "name": "#%%\n"
    }
   }
  },
  {
   "cell_type": "code",
   "execution_count": 262,
   "outputs": [
    {
     "data": {
      "text/plain": "[21,\n 19,\n 24,\n 18,\n 17,\n 16,\n 23,\n 20,\n 15,\n 47,\n 38,\n 37,\n 31,\n 49,\n 30,\n 27,\n 25,\n 13,\n 26,\n 36,\n 22,\n 14,\n 45,\n 28,\n 32,\n 35,\n 34,\n 29,\n 33]"
     },
     "metadata": {},
     "output_type": "execute_result",
     "execution_count": 262
    }
   ],
   "source": [
    "list_unique_values_in_a_column(data, 'city-mpg')\n",
    "# No NaN or out-of-bound values"
   ],
   "metadata": {
    "collapsed": false,
    "pycharm": {
     "name": "#%%\n",
     "is_executing": false
    }
   }
  },
  {
   "cell_type": "code",
   "execution_count": 263,
   "outputs": [
    {
     "data": {
      "text/plain": "[27,\n 26,\n 30,\n 22,\n 25,\n 20,\n 29,\n 28,\n 53,\n 43,\n 41,\n 38,\n 24,\n 54,\n 42,\n 34,\n 33,\n 31,\n 19,\n 17,\n 23,\n 32,\n 39,\n 18,\n 16,\n 37,\n 50,\n 36,\n 47,\n 46]"
     },
     "metadata": {},
     "output_type": "execute_result",
     "execution_count": 263
    }
   ],
   "source": [
    "list_unique_values_in_a_column(data, 'highway-mpg')\n",
    "# No NaN or out-of-bound values"
   ],
   "metadata": {
    "collapsed": false,
    "pycharm": {
     "name": "#%%\n",
     "is_executing": false
    }
   }
  },
  {
   "cell_type": "code",
   "execution_count": 264,
   "outputs": [
    {
     "data": {
      "text/plain": "[13495.0,\n 16500.0,\n 13950.0,\n 17450.0,\n 15250.0,\n 17710.0,\n 18920.0,\n 23875.0,\n nan,\n 16430.0,\n 16925.0,\n 20970.0,\n 21105.0,\n 24565.0,\n 30760.0,\n 41315.0,\n 36880.0,\n 5151.0,\n 6295.0,\n 6575.0,\n 5572.0,\n 6377.0,\n 7957.0,\n 6229.0,\n 6692.0,\n 7609.0,\n 8558.0,\n 8921.0,\n 12964.0,\n 6479.0,\n 6855.0,\n 5399.0,\n 6529.0,\n 7129.0,\n 7295.0,\n 7895.0,\n 9095.0,\n 8845.0,\n 10295.0,\n 12945.0,\n 10345.0,\n 6785.0,\n 11048.0,\n 32250.0,\n 35550.0,\n 36000.0,\n 5195.0,\n 6095.0,\n 6795.0,\n 6695.0,\n 7395.0,\n 10945.0,\n 11845.0,\n 13645.0,\n 15645.0,\n 8495.0,\n 10595.0,\n 10245.0,\n 10795.0,\n 11245.0,\n 18280.0,\n 18344.0,\n 25552.0,\n 28248.0,\n 28176.0,\n 31600.0,\n 34184.0,\n 35056.0,\n 40960.0,\n 45400.0,\n 16503.0,\n 5389.0,\n 6189.0,\n 6669.0,\n 7689.0,\n 9959.0,\n 8499.0,\n 12629.0,\n 14869.0,\n 14489.0,\n 6989.0,\n 8189.0,\n 9279.0,\n 5499.0,\n 7099.0,\n 6649.0,\n 6849.0,\n 7349.0,\n 7299.0,\n 7799.0,\n 7499.0,\n 7999.0,\n 8249.0,\n 8949.0,\n 9549.0,\n 13499.0,\n 14399.0,\n 17199.0,\n 19699.0,\n 18399.0,\n 11900.0,\n 13200.0,\n 12440.0,\n 13860.0,\n 15580.0,\n 16900.0,\n 16695.0,\n 17075.0,\n 16630.0,\n 17950.0,\n 18150.0,\n 12764.0,\n 22018.0,\n 32528.0,\n 34028.0,\n 37028.0,\n 9295.0,\n 9895.0,\n 11850.0,\n 12170.0,\n 15040.0,\n 15510.0,\n 18620.0,\n 5118.0,\n 7053.0,\n 7603.0,\n 7126.0,\n 7775.0,\n 9960.0,\n 9233.0,\n 11259.0,\n 7463.0,\n 10198.0,\n 8013.0,\n 11694.0,\n 5348.0,\n 6338.0,\n 6488.0,\n 6918.0,\n 7898.0,\n 8778.0,\n 6938.0,\n 7198.0,\n 7788.0,\n 7738.0,\n 8358.0,\n 9258.0,\n 8058.0,\n 8238.0,\n 9298.0,\n 9538.0,\n 8449.0,\n 9639.0,\n 9989.0,\n 11199.0,\n 11549.0,\n 17669.0,\n 8948.0,\n 10698.0,\n 9988.0,\n 10898.0,\n 11248.0,\n 16558.0,\n 15998.0,\n 15690.0,\n 15750.0,\n 7975.0,\n 7995.0,\n 8195.0,\n 9495.0,\n 9995.0,\n 11595.0,\n 9980.0,\n 13295.0,\n 13845.0,\n 12290.0,\n 12940.0,\n 13415.0,\n 15985.0,\n 16515.0,\n 18420.0,\n 18950.0,\n 16845.0,\n 19045.0,\n 21485.0,\n 22470.0,\n 22625.0,\n 0.0]"
     },
     "metadata": {},
     "output_type": "execute_result",
     "execution_count": 264
    }
   ],
   "source": [
    "# TODO Replace NaN and 0\n",
    "list_unique_values_in_a_column(data, 'price')\n",
    "# NaN and 0 value found"
   ],
   "metadata": {
    "collapsed": false,
    "pycharm": {
     "name": "#%%\n",
     "is_executing": false
    }
   }
  },
  {
   "cell_type": "code",
   "execution_count": 258,
   "outputs": [],
   "source": [
    "# Task 2: Data Exploration\n",
    "# 1. Choose 1 column with nominal values, 1 column with ordinal Values, and 1 column with numerical values\n",
    "# nominal values = make, fuel-type, aspiration, body-style, num-of-doors, drive-wheels, engine-location, fuel-system\n",
    "# ordinal values = \n",
    "\n",
    "#Code goes after this line\n",
    "nominal_value = 1\n",
    "ordinal_value = 2\n",
    "numerical_value = 3\n"
   ],
   "metadata": {
    "collapsed": false,
    "pycharm": {
     "name": "#%%\n",
     "is_executing": false
    }
   }
  },
  {
   "cell_type": "code",
   "execution_count": 259,
   "metadata": {
    "pycharm": {
     "is_executing": false
    }
   },
   "outputs": [],
   "source": [
    "# Task 2: Data Exploration\n",
    "# 2. Explore the relationships between columns; at least 3 visualisations with plausible hypothesis\n",
    "\n",
    "#Code goes after this line\n",
    "\n",
    "\n"
   ]
  },
  {
   "cell_type": "code",
   "execution_count": 260,
   "metadata": {
    "scrolled": true,
    "pycharm": {
     "is_executing": false
    }
   },
   "outputs": [],
   "source": [
    "# Task 2: Data Exploration\n",
    "# 3. Scatter matrix for all numerical columns\n",
    "\n",
    "#Code goes after this line"
   ]
  },
  {
   "cell_type": "code",
   "execution_count": 260,
   "metadata": {
    "pycharm": {
     "is_executing": false
    }
   },
   "outputs": [],
   "source": []
  }
 ],
 "metadata": {
  "kernelspec": {
   "display_name": "Python 2",
   "language": "python",
   "name": "python2"
  },
  "language_info": {
   "codemirror_mode": {
    "name": "ipython",
    "version": 2
   },
   "file_extension": ".py",
   "mimetype": "text/x-python",
   "name": "python",
   "nbconvert_exporter": "python",
   "pygments_lexer": "ipython2",
   "version": "2.7.15"
  },
  "pycharm": {
   "stem_cell": {
    "cell_type": "raw",
    "source": [],
    "metadata": {
     "collapsed": false
    }
   }
  }
 },
 "nbformat": 4,
 "nbformat_minor": 2
}